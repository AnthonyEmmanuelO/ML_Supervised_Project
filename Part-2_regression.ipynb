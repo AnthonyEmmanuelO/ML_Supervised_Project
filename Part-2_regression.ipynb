{
 "cells": [
  {
   "cell_type": "markdown",
   "metadata": {},
   "source": [
    "# <font color = \"red\">Project 2"
   ]
  },
  {
   "cell_type": "markdown",
   "metadata": {},
   "source": [
    "## <font color = \"blue\"> Blue color is comment, <font color = 'Green'> Green color is conclusion"
   ]
  },
  {
   "cell_type": "markdown",
   "metadata": {},
   "source": [
    "# Regression Part (Used cars database)"
   ]
  },
  {
   "cell_type": "markdown",
   "metadata": {},
   "source": [
    "## Introduction"
   ]
  },
  {
   "cell_type": "markdown",
   "metadata": {},
   "source": [
    "Over 370000 used cars scraped with Scrapy from Ebay-Kleinanzeigen. The content of the data is in german, so one has to translate it first if one can not speak german."
   ]
  },
  {
   "cell_type": "markdown",
   "metadata": {},
   "source": [
    "## Data discription"
   ]
  },
  {
   "cell_type": "markdown",
   "metadata": {},
   "source": [
    "dateCrawled : when this ad was first crawled, all field-values are taken from this date\n",
    "\n",
    "name : \"name\" of the car\n",
    "\n",
    "seller : private or dealer\n",
    "\n",
    "offerType\n",
    "\n",
    "price : the price on the ad to sell the car\n",
    "\n",
    "abtest\n",
    "\n",
    "vehicleType\n",
    "\n",
    "yearOfRegistration : at which year the car was first registered\n",
    "\n",
    "gearbox\n",
    "\n",
    "powerPS : power of the car in PS\n",
    "\n",
    "model\n",
    "\n",
    "kilometer : how many kilometers the car has driven\n",
    "\n",
    "monthOfRegistration : at which month the car was first registered\n",
    "\n",
    "fuelType\n",
    "\n",
    "brand\n",
    "\n",
    "notRepairedDamage : if the car has a damage which is not repaired yet\n",
    "\n",
    "dateCreated : the date for which the ad at ebay was created\n",
    "\n",
    "nrOfPictures : number of pictures in the ad (unfortunately this field contains everywhere a 0 and is thus useless (bug in crawler!) )\n",
    "\n",
    "postalCode\n",
    "\n",
    "lastSeenOnline : when the crawler saw this ad last online"
   ]
  },
  {
   "cell_type": "code",
   "execution_count": 1,
   "metadata": {},
   "outputs": [],
   "source": [
    "import numpy as np \n",
    "from matplotlib import pyplot as plt\n",
    "import pandas as pd \n",
    "from sklearn import model_selection # for splitting the data into training and testing data\n",
    "import seaborn as sns\n",
    "from sklearn.linear_model import LinearRegression \n",
    "from sklearn.model_selection import train_test_split\n",
    "\n",
    "from sklearn.tree import DecisionTreeRegressor\n",
    "from sklearn.ensemble import RandomForestRegressor\n",
    "\n",
    "import os\n",
    "os.chdir(\"C:/Users/howar/Desktop/ML\")"
   ]
  },
  {
   "cell_type": "markdown",
   "metadata": {},
   "source": [
    "### <font color='blue'> Import database"
   ]
  },
  {
   "cell_type": "code",
   "execution_count": 2,
   "metadata": {},
   "outputs": [],
   "source": [
    "df=pd.read_csv(\"autos.csv\",encoding = \"ISO-8859-1\")"
   ]
  },
  {
   "cell_type": "code",
   "execution_count": 3,
   "metadata": {},
   "outputs": [],
   "source": [
    "df = pd.DataFrame(data=df)"
   ]
  },
  {
   "cell_type": "code",
   "execution_count": 4,
   "metadata": {},
   "outputs": [
    {
     "name": "stdout",
     "output_type": "stream",
     "text": [
      "(371528, 20)\n"
     ]
    }
   ],
   "source": [
    "print(df.shape)"
   ]
  },
  {
   "cell_type": "markdown",
   "metadata": {},
   "source": [
    "### <font color='blue'> Basic understanding of numerical features"
   ]
  },
  {
   "cell_type": "code",
   "execution_count": 5,
   "metadata": {},
   "outputs": [
    {
     "data": {
      "text/html": [
       "<div>\n",
       "<style scoped>\n",
       "    .dataframe tbody tr th:only-of-type {\n",
       "        vertical-align: middle;\n",
       "    }\n",
       "\n",
       "    .dataframe tbody tr th {\n",
       "        vertical-align: top;\n",
       "    }\n",
       "\n",
       "    .dataframe thead th {\n",
       "        text-align: right;\n",
       "    }\n",
       "</style>\n",
       "<table border=\"1\" class=\"dataframe\">\n",
       "  <thead>\n",
       "    <tr style=\"text-align: right;\">\n",
       "      <th></th>\n",
       "      <th>price</th>\n",
       "      <th>yearOfRegistration</th>\n",
       "      <th>powerPS</th>\n",
       "      <th>kilometer</th>\n",
       "      <th>monthOfRegistration</th>\n",
       "      <th>nrOfPictures</th>\n",
       "      <th>postalCode</th>\n",
       "    </tr>\n",
       "  </thead>\n",
       "  <tbody>\n",
       "    <tr>\n",
       "      <th>count</th>\n",
       "      <td>3.715280e+05</td>\n",
       "      <td>371528.000000</td>\n",
       "      <td>371528.000000</td>\n",
       "      <td>371528.000000</td>\n",
       "      <td>371528.000000</td>\n",
       "      <td>371528.0</td>\n",
       "      <td>371528.00000</td>\n",
       "    </tr>\n",
       "    <tr>\n",
       "      <th>mean</th>\n",
       "      <td>1.729514e+04</td>\n",
       "      <td>2004.577997</td>\n",
       "      <td>115.549477</td>\n",
       "      <td>125618.688228</td>\n",
       "      <td>5.734445</td>\n",
       "      <td>0.0</td>\n",
       "      <td>50820.66764</td>\n",
       "    </tr>\n",
       "    <tr>\n",
       "      <th>std</th>\n",
       "      <td>3.587954e+06</td>\n",
       "      <td>92.866598</td>\n",
       "      <td>192.139578</td>\n",
       "      <td>40112.337051</td>\n",
       "      <td>3.712412</td>\n",
       "      <td>0.0</td>\n",
       "      <td>25799.08247</td>\n",
       "    </tr>\n",
       "    <tr>\n",
       "      <th>min</th>\n",
       "      <td>0.000000e+00</td>\n",
       "      <td>1000.000000</td>\n",
       "      <td>0.000000</td>\n",
       "      <td>5000.000000</td>\n",
       "      <td>0.000000</td>\n",
       "      <td>0.0</td>\n",
       "      <td>1067.00000</td>\n",
       "    </tr>\n",
       "    <tr>\n",
       "      <th>25%</th>\n",
       "      <td>1.150000e+03</td>\n",
       "      <td>1999.000000</td>\n",
       "      <td>70.000000</td>\n",
       "      <td>125000.000000</td>\n",
       "      <td>3.000000</td>\n",
       "      <td>0.0</td>\n",
       "      <td>30459.00000</td>\n",
       "    </tr>\n",
       "    <tr>\n",
       "      <th>50%</th>\n",
       "      <td>2.950000e+03</td>\n",
       "      <td>2003.000000</td>\n",
       "      <td>105.000000</td>\n",
       "      <td>150000.000000</td>\n",
       "      <td>6.000000</td>\n",
       "      <td>0.0</td>\n",
       "      <td>49610.00000</td>\n",
       "    </tr>\n",
       "    <tr>\n",
       "      <th>75%</th>\n",
       "      <td>7.200000e+03</td>\n",
       "      <td>2008.000000</td>\n",
       "      <td>150.000000</td>\n",
       "      <td>150000.000000</td>\n",
       "      <td>9.000000</td>\n",
       "      <td>0.0</td>\n",
       "      <td>71546.00000</td>\n",
       "    </tr>\n",
       "    <tr>\n",
       "      <th>max</th>\n",
       "      <td>2.147484e+09</td>\n",
       "      <td>9999.000000</td>\n",
       "      <td>20000.000000</td>\n",
       "      <td>150000.000000</td>\n",
       "      <td>12.000000</td>\n",
       "      <td>0.0</td>\n",
       "      <td>99998.00000</td>\n",
       "    </tr>\n",
       "  </tbody>\n",
       "</table>\n",
       "</div>"
      ],
      "text/plain": [
       "              price  yearOfRegistration        powerPS      kilometer  \\\n",
       "count  3.715280e+05       371528.000000  371528.000000  371528.000000   \n",
       "mean   1.729514e+04         2004.577997     115.549477  125618.688228   \n",
       "std    3.587954e+06           92.866598     192.139578   40112.337051   \n",
       "min    0.000000e+00         1000.000000       0.000000    5000.000000   \n",
       "25%    1.150000e+03         1999.000000      70.000000  125000.000000   \n",
       "50%    2.950000e+03         2003.000000     105.000000  150000.000000   \n",
       "75%    7.200000e+03         2008.000000     150.000000  150000.000000   \n",
       "max    2.147484e+09         9999.000000   20000.000000  150000.000000   \n",
       "\n",
       "       monthOfRegistration  nrOfPictures    postalCode  \n",
       "count        371528.000000      371528.0  371528.00000  \n",
       "mean              5.734445           0.0   50820.66764  \n",
       "std               3.712412           0.0   25799.08247  \n",
       "min               0.000000           0.0    1067.00000  \n",
       "25%               3.000000           0.0   30459.00000  \n",
       "50%               6.000000           0.0   49610.00000  \n",
       "75%               9.000000           0.0   71546.00000  \n",
       "max              12.000000           0.0   99998.00000  "
      ]
     },
     "execution_count": 5,
     "metadata": {},
     "output_type": "execute_result"
    }
   ],
   "source": [
    "df.describe()"
   ]
  },
  {
   "cell_type": "markdown",
   "metadata": {},
   "source": [
    "### <font color='blue'> Basic understanding of categorical features"
   ]
  },
  {
   "cell_type": "code",
   "execution_count": 6,
   "metadata": {},
   "outputs": [
    {
     "data": {
      "text/html": [
       "<div>\n",
       "<style scoped>\n",
       "    .dataframe tbody tr th:only-of-type {\n",
       "        vertical-align: middle;\n",
       "    }\n",
       "\n",
       "    .dataframe tbody tr th {\n",
       "        vertical-align: top;\n",
       "    }\n",
       "\n",
       "    .dataframe thead th {\n",
       "        text-align: right;\n",
       "    }\n",
       "</style>\n",
       "<table border=\"1\" class=\"dataframe\">\n",
       "  <thead>\n",
       "    <tr style=\"text-align: right;\">\n",
       "      <th></th>\n",
       "      <th>dateCrawled</th>\n",
       "      <th>name</th>\n",
       "      <th>seller</th>\n",
       "      <th>offerType</th>\n",
       "      <th>abtest</th>\n",
       "      <th>vehicleType</th>\n",
       "      <th>gearbox</th>\n",
       "      <th>model</th>\n",
       "      <th>fuelType</th>\n",
       "      <th>brand</th>\n",
       "      <th>notRepairedDamage</th>\n",
       "      <th>dateCreated</th>\n",
       "      <th>lastSeen</th>\n",
       "    </tr>\n",
       "  </thead>\n",
       "  <tbody>\n",
       "    <tr>\n",
       "      <th>count</th>\n",
       "      <td>371528</td>\n",
       "      <td>371528</td>\n",
       "      <td>371528</td>\n",
       "      <td>371528</td>\n",
       "      <td>371528</td>\n",
       "      <td>333659</td>\n",
       "      <td>351319</td>\n",
       "      <td>351044</td>\n",
       "      <td>338142</td>\n",
       "      <td>371528</td>\n",
       "      <td>299468</td>\n",
       "      <td>371528</td>\n",
       "      <td>371528</td>\n",
       "    </tr>\n",
       "    <tr>\n",
       "      <th>unique</th>\n",
       "      <td>280500</td>\n",
       "      <td>233531</td>\n",
       "      <td>2</td>\n",
       "      <td>2</td>\n",
       "      <td>2</td>\n",
       "      <td>8</td>\n",
       "      <td>2</td>\n",
       "      <td>251</td>\n",
       "      <td>7</td>\n",
       "      <td>40</td>\n",
       "      <td>2</td>\n",
       "      <td>114</td>\n",
       "      <td>182806</td>\n",
       "    </tr>\n",
       "    <tr>\n",
       "      <th>top</th>\n",
       "      <td>2016-03-24 14:49:47</td>\n",
       "      <td>Ford_Fiesta</td>\n",
       "      <td>privat</td>\n",
       "      <td>Angebot</td>\n",
       "      <td>test</td>\n",
       "      <td>limousine</td>\n",
       "      <td>manuell</td>\n",
       "      <td>golf</td>\n",
       "      <td>benzin</td>\n",
       "      <td>volkswagen</td>\n",
       "      <td>nein</td>\n",
       "      <td>2016-04-03 00:00:00</td>\n",
       "      <td>2016-04-07 06:45:59</td>\n",
       "    </tr>\n",
       "    <tr>\n",
       "      <th>freq</th>\n",
       "      <td>7</td>\n",
       "      <td>657</td>\n",
       "      <td>371525</td>\n",
       "      <td>371516</td>\n",
       "      <td>192585</td>\n",
       "      <td>95894</td>\n",
       "      <td>274214</td>\n",
       "      <td>30070</td>\n",
       "      <td>223857</td>\n",
       "      <td>79640</td>\n",
       "      <td>263182</td>\n",
       "      <td>14450</td>\n",
       "      <td>17</td>\n",
       "    </tr>\n",
       "  </tbody>\n",
       "</table>\n",
       "</div>"
      ],
      "text/plain": [
       "                dateCrawled         name  seller offerType  abtest  \\\n",
       "count                371528       371528  371528    371528  371528   \n",
       "unique               280500       233531       2         2       2   \n",
       "top     2016-03-24 14:49:47  Ford_Fiesta  privat   Angebot    test   \n",
       "freq                      7          657  371525    371516  192585   \n",
       "\n",
       "       vehicleType  gearbox   model fuelType       brand notRepairedDamage  \\\n",
       "count       333659   351319  351044   338142      371528            299468   \n",
       "unique           8        2     251        7          40                 2   \n",
       "top      limousine  manuell    golf   benzin  volkswagen              nein   \n",
       "freq         95894   274214   30070   223857       79640            263182   \n",
       "\n",
       "                dateCreated             lastSeen  \n",
       "count                371528               371528  \n",
       "unique                  114               182806  \n",
       "top     2016-04-03 00:00:00  2016-04-07 06:45:59  \n",
       "freq                  14450                   17  "
      ]
     },
     "execution_count": 6,
     "metadata": {},
     "output_type": "execute_result"
    }
   ],
   "source": [
    "df.describe(include = 'O')"
   ]
  },
  {
   "cell_type": "markdown",
   "metadata": {},
   "source": [
    "### <font color='blue'> There are 5 columns and lots of missing values"
   ]
  },
  {
   "cell_type": "code",
   "execution_count": 7,
   "metadata": {},
   "outputs": [
    {
     "data": {
      "text/plain": [
       "dateCrawled                0\n",
       "name                       0\n",
       "seller                     0\n",
       "offerType                  0\n",
       "price                      0\n",
       "abtest                     0\n",
       "vehicleType            37869\n",
       "yearOfRegistration         0\n",
       "gearbox                20209\n",
       "powerPS                    0\n",
       "model                  20484\n",
       "kilometer                  0\n",
       "monthOfRegistration        0\n",
       "fuelType               33386\n",
       "brand                      0\n",
       "notRepairedDamage      72060\n",
       "dateCreated                0\n",
       "nrOfPictures               0\n",
       "postalCode                 0\n",
       "lastSeen                   0\n",
       "dtype: int64"
      ]
     },
     "execution_count": 7,
     "metadata": {},
     "output_type": "execute_result"
    }
   ],
   "source": [
    "df.isnull().sum()"
   ]
  },
  {
   "cell_type": "markdown",
   "metadata": {},
   "source": [
    "# Dropping unnecessary feature"
   ]
  },
  {
   "cell_type": "markdown",
   "metadata": {},
   "source": [
    "# Star from categorical variables"
   ]
  },
  {
   "cell_type": "markdown",
   "metadata": {},
   "source": [
    "## Look at seller variable"
   ]
  },
  {
   "cell_type": "code",
   "execution_count": 8,
   "metadata": {},
   "outputs": [
    {
     "data": {
      "text/plain": [
       "privat        371525\n",
       "gewerblich         3\n",
       "Name: seller, dtype: int64"
      ]
     },
     "execution_count": 8,
     "metadata": {},
     "output_type": "execute_result"
    }
   ],
   "source": [
    "df[\"seller\"].value_counts()"
   ]
  },
  {
   "cell_type": "code",
   "execution_count": 9,
   "metadata": {},
   "outputs": [
    {
     "data": {
      "text/plain": [
       "<matplotlib.axes._subplots.AxesSubplot at 0x263ea7665c0>"
      ]
     },
     "execution_count": 9,
     "metadata": {},
     "output_type": "execute_result"
    },
    {
     "data": {
      "image/png": "[encoded data removed]",
      "text/plain": [
       "<Figure size 432x288 with 1 Axes>"
      ]
     },
     "metadata": {
      "needs_background": "light"
     },
     "output_type": "display_data"
    }
   ],
   "source": [
    "df['seller'].value_counts().plot.bar()"
   ]
  },
  {
   "cell_type": "markdown",
   "metadata": {},
   "source": [
    "### <font color='blue'> one of the label only have 3 entries, so we drop it"
   ]
  },
  {
   "cell_type": "code",
   "execution_count": 10,
   "metadata": {},
   "outputs": [],
   "source": [
    "df.drop(['seller'], axis=1,inplace=True)"
   ]
  },
  {
   "cell_type": "markdown",
   "metadata": {},
   "source": [
    "## Look at the offerType variable"
   ]
  },
  {
   "cell_type": "code",
   "execution_count": 11,
   "metadata": {},
   "outputs": [
    {
     "data": {
      "text/plain": [
       "Angebot    371516\n",
       "Gesuch         12\n",
       "Name: offerType, dtype: int64"
      ]
     },
     "execution_count": 11,
     "metadata": {},
     "output_type": "execute_result"
    }
   ],
   "source": [
    "df[\"offerType\"].value_counts()"
   ]
  },
  {
   "cell_type": "code",
   "execution_count": 12,
   "metadata": {},
   "outputs": [
    {
     "data": {
      "text/plain": [
       "<matplotlib.axes._subplots.AxesSubplot at 0x263ea7e4978>"
      ]
     },
     "execution_count": 12,
     "metadata": {},
     "output_type": "execute_result"
    },
    {
     "data": {
      "image/png": "[encoded data removed]",
      "text/plain": [
       "<Figure size 432x288 with 1 Axes>"
      ]
     },
     "metadata": {
      "needs_background": "light"
     },
     "output_type": "display_data"
    }
   ],
   "source": [
    "df['offerType'].value_counts().plot.bar()"
   ]
  },
  {
   "cell_type": "markdown",
   "metadata": {},
   "source": [
    "### <font color='blue'> one of the label only have 12 entries, so we drop it"
   ]
  },
  {
   "cell_type": "code",
   "execution_count": 13,
   "metadata": {},
   "outputs": [],
   "source": [
    "df.drop(['offerType'], axis=1,inplace=True)"
   ]
  },
  {
   "cell_type": "markdown",
   "metadata": {},
   "source": [
    "## Look at the nrOfPictures variable"
   ]
  },
  {
   "cell_type": "code",
   "execution_count": 14,
   "metadata": {},
   "outputs": [
    {
     "data": {
      "text/plain": [
       "0    371528\n",
       "Name: nrOfPictures, dtype: int64"
      ]
     },
     "execution_count": 14,
     "metadata": {},
     "output_type": "execute_result"
    }
   ],
   "source": [
    "df[\"nrOfPictures\"].value_counts()"
   ]
  },
  {
   "cell_type": "code",
   "execution_count": 15,
   "metadata": {},
   "outputs": [
    {
     "data": {
      "text/plain": [
       "<matplotlib.axes._subplots.AxesSubplot at 0x263ea85f2e8>"
      ]
     },
     "execution_count": 15,
     "metadata": {},
     "output_type": "execute_result"
    },
    {
     "data": {
      "image/png": "[encoded data removed]",
      "text/plain": [
       "<Figure size 432x288 with 1 Axes>"
      ]
     },
     "metadata": {
      "needs_background": "light"
     },
     "output_type": "display_data"
    }
   ],
   "source": [
    "df['nrOfPictures'].value_counts().plot.bar()"
   ]
  },
  {
   "cell_type": "markdown",
   "metadata": {},
   "source": [
    "### <font color='blue'> It only have one label, so we drop it"
   ]
  },
  {
   "cell_type": "code",
   "execution_count": 16,
   "metadata": {},
   "outputs": [],
   "source": [
    "df.drop(['nrOfPictures'], axis=1,inplace=True)"
   ]
  },
  {
   "cell_type": "markdown",
   "metadata": {},
   "source": [
    "## Look at the abtest variable"
   ]
  },
  {
   "cell_type": "code",
   "execution_count": 17,
   "metadata": {},
   "outputs": [
    {
     "data": {
      "text/plain": [
       "test       192585\n",
       "control    178943\n",
       "Name: abtest, dtype: int64"
      ]
     },
     "execution_count": 17,
     "metadata": {},
     "output_type": "execute_result"
    }
   ],
   "source": [
    "df[\"abtest\"].value_counts()\n",
    "# keep it"
   ]
  },
  {
   "cell_type": "code",
   "execution_count": 18,
   "metadata": {},
   "outputs": [
    {
     "data": {
      "text/plain": [
       "<matplotlib.axes._subplots.AxesSubplot at 0x263ea8b00b8>"
      ]
     },
     "execution_count": 18,
     "metadata": {},
     "output_type": "execute_result"
    },
    {
     "data": {
      "image/png": "[encoded data removed]",
      "text/plain": [
       "<Figure size 432x288 with 1 Axes>"
      ]
     },
     "metadata": {
      "needs_background": "light"
     },
     "output_type": "display_data"
    }
   ],
   "source": [
    "df['abtest'].value_counts().plot.bar()"
   ]
  },
  {
   "cell_type": "markdown",
   "metadata": {},
   "source": [
    "### <font color='blue'> Both labels are quite even, so we keep it"
   ]
  },
  {
   "cell_type": "markdown",
   "metadata": {},
   "source": [
    "## Look at the dateCrawled, dateCreated, lastSeen variable"
   ]
  },
  {
   "cell_type": "code",
   "execution_count": 19,
   "metadata": {},
   "outputs": [
    {
     "data": {
      "text/html": [
       "<div>\n",
       "<style scoped>\n",
       "    .dataframe tbody tr th:only-of-type {\n",
       "        vertical-align: middle;\n",
       "    }\n",
       "\n",
       "    .dataframe tbody tr th {\n",
       "        vertical-align: top;\n",
       "    }\n",
       "\n",
       "    .dataframe thead th {\n",
       "        text-align: right;\n",
       "    }\n",
       "</style>\n",
       "<table border=\"1\" class=\"dataframe\">\n",
       "  <thead>\n",
       "    <tr style=\"text-align: right;\">\n",
       "      <th></th>\n",
       "      <th>dateCrawled</th>\n",
       "      <th>dateCreated</th>\n",
       "      <th>lastSeen</th>\n",
       "    </tr>\n",
       "  </thead>\n",
       "  <tbody>\n",
       "    <tr>\n",
       "      <th>0</th>\n",
       "      <td>2016-03-24 11:52:17</td>\n",
       "      <td>2016-03-24 00:00:00</td>\n",
       "      <td>2016-04-07 03:16:57</td>\n",
       "    </tr>\n",
       "    <tr>\n",
       "      <th>1</th>\n",
       "      <td>2016-03-24 10:58:45</td>\n",
       "      <td>2016-03-24 00:00:00</td>\n",
       "      <td>2016-04-07 01:46:50</td>\n",
       "    </tr>\n",
       "    <tr>\n",
       "      <th>2</th>\n",
       "      <td>2016-03-14 12:52:21</td>\n",
       "      <td>2016-03-14 00:00:00</td>\n",
       "      <td>2016-04-05 12:47:46</td>\n",
       "    </tr>\n",
       "    <tr>\n",
       "      <th>3</th>\n",
       "      <td>2016-03-17 16:54:04</td>\n",
       "      <td>2016-03-17 00:00:00</td>\n",
       "      <td>2016-03-17 17:40:17</td>\n",
       "    </tr>\n",
       "    <tr>\n",
       "      <th>4</th>\n",
       "      <td>2016-03-31 17:25:20</td>\n",
       "      <td>2016-03-31 00:00:00</td>\n",
       "      <td>2016-04-06 10:17:21</td>\n",
       "    </tr>\n",
       "  </tbody>\n",
       "</table>\n",
       "</div>"
      ],
      "text/plain": [
       "           dateCrawled          dateCreated             lastSeen\n",
       "0  2016-03-24 11:52:17  2016-03-24 00:00:00  2016-04-07 03:16:57\n",
       "1  2016-03-24 10:58:45  2016-03-24 00:00:00  2016-04-07 01:46:50\n",
       "2  2016-03-14 12:52:21  2016-03-14 00:00:00  2016-04-05 12:47:46\n",
       "3  2016-03-17 16:54:04  2016-03-17 00:00:00  2016-03-17 17:40:17\n",
       "4  2016-03-31 17:25:20  2016-03-31 00:00:00  2016-04-06 10:17:21"
      ]
     },
     "execution_count": 19,
     "metadata": {},
     "output_type": "execute_result"
    }
   ],
   "source": [
    "df[ [\"dateCrawled\",\"dateCreated\",\"lastSeen\"] ].head()"
   ]
  },
  {
   "cell_type": "markdown",
   "metadata": {},
   "source": [
    "### <font color='blue'> These three variable are just dates, we don't need dates for our regressions"
   ]
  },
  {
   "cell_type": "code",
   "execution_count": 20,
   "metadata": {},
   "outputs": [],
   "source": [
    "df = df.drop([\"dateCrawled\",\"dateCreated\",\"lastSeen\"] , axis=1 )"
   ]
  },
  {
   "cell_type": "markdown",
   "metadata": {},
   "source": [
    "## Look at the postalCode variable"
   ]
  },
  {
   "cell_type": "code",
   "execution_count": 21,
   "metadata": {},
   "outputs": [
    {
     "data": {
      "text/plain": [
       "0    70435\n",
       "1    66954\n",
       "2    90480\n",
       "3    91074\n",
       "4    60437\n",
       "Name: postalCode, dtype: int64"
      ]
     },
     "execution_count": 21,
     "metadata": {},
     "output_type": "execute_result"
    }
   ],
   "source": [
    "df[\"postalCode\"].head()"
   ]
  },
  {
   "cell_type": "markdown",
   "metadata": {},
   "source": [
    "### <font color='blue'> We don't need postcode for our regressions"
   ]
  },
  {
   "cell_type": "code",
   "execution_count": 22,
   "metadata": {},
   "outputs": [],
   "source": [
    "df.drop(['postalCode'], axis=1,inplace=True)"
   ]
  },
  {
   "cell_type": "markdown",
   "metadata": {},
   "source": [
    "## Look at the name variable"
   ]
  },
  {
   "cell_type": "code",
   "execution_count": 23,
   "metadata": {},
   "outputs": [
    {
     "data": {
      "text/plain": [
       "Ford_Fiesta            657\n",
       "BMW_318i               627\n",
       "Opel_Corsa             622\n",
       "Volkswagen_Golf_1.4    603\n",
       "BMW_316i               523\n",
       "Name: name, dtype: int64"
      ]
     },
     "execution_count": 23,
     "metadata": {},
     "output_type": "execute_result"
    }
   ],
   "source": [
    "df[\"name\"].value_counts().head()"
   ]
  },
  {
   "cell_type": "markdown",
   "metadata": {},
   "source": [
    "### <font color='blue'> It's the nome of the cars, we don't need it, so we drop it"
   ]
  },
  {
   "cell_type": "code",
   "execution_count": 24,
   "metadata": {},
   "outputs": [],
   "source": [
    "df.drop(['name'], axis=1,inplace=True)"
   ]
  },
  {
   "cell_type": "markdown",
   "metadata": {},
   "source": [
    "# Deal with missing value"
   ]
  },
  {
   "cell_type": "code",
   "execution_count": 25,
   "metadata": {},
   "outputs": [
    {
     "data": {
      "text/plain": [
       "price                      0\n",
       "abtest                     0\n",
       "vehicleType            37869\n",
       "yearOfRegistration         0\n",
       "gearbox                20209\n",
       "powerPS                    0\n",
       "model                  20484\n",
       "kilometer                  0\n",
       "monthOfRegistration        0\n",
       "fuelType               33386\n",
       "brand                      0\n",
       "notRepairedDamage      72060\n",
       "dtype: int64"
      ]
     },
     "execution_count": 25,
     "metadata": {},
     "output_type": "execute_result"
    }
   ],
   "source": [
    "df.isnull().sum()\n",
    "# 5 variable contain missing value"
   ]
  },
  {
   "cell_type": "markdown",
   "metadata": {},
   "source": [
    "### Filling missing value for gearbox variable"
   ]
  },
  {
   "cell_type": "code",
   "execution_count": 26,
   "metadata": {},
   "outputs": [
    {
     "data": {
      "text/plain": [
       "brand           gearbox  \n",
       "alfa_romeo      manuell       2064\n",
       "                automatik      146\n",
       "audi            manuell      20841\n",
       "                automatik    10698\n",
       "bmw             manuell      25323\n",
       "                automatik    13442\n",
       "chevrolet       manuell       1104\n",
       "                automatik      634\n",
       "chrysler        automatik      753\n",
       "                manuell        637\n",
       "citroen         manuell       4304\n",
       "                automatik      604\n",
       "dacia           manuell        877\n",
       "                automatik        1\n",
       "daewoo          manuell        475\n",
       "                automatik       33\n",
       "daihatsu        manuell        667\n",
       "                automatik       85\n",
       "fiat            manuell       8786\n",
       "                automatik      231\n",
       "ford            manuell      22198\n",
       "                automatik     1953\n",
       "honda           manuell       2393\n",
       "                automatik      318\n",
       "hyundai         manuell       3091\n",
       "                automatik      421\n",
       "jaguar          automatik      477\n",
       "                manuell        118\n",
       "jeep            automatik      542\n",
       "                manuell        232\n",
       "                             ...  \n",
       "peugeot         manuell       9896\n",
       "                automatik      637\n",
       "porsche         manuell       1203\n",
       "                automatik      880\n",
       "renault         manuell      15605\n",
       "                automatik     1252\n",
       "rover           manuell        412\n",
       "                automatik       46\n",
       "saab            manuell        391\n",
       "                automatik      124\n",
       "seat            manuell       6396\n",
       "                automatik      318\n",
       "skoda           manuell       4840\n",
       "                automatik      663\n",
       "smart           automatik     3626\n",
       "                manuell        708\n",
       "sonstige_autos  manuell       1496\n",
       "                automatik     1322\n",
       "subaru          manuell        620\n",
       "                automatik      126\n",
       "suzuki          manuell       2018\n",
       "                automatik      184\n",
       "toyota          manuell       3913\n",
       "                automatik      606\n",
       "trabant         manuell        365\n",
       "                automatik        2\n",
       "volkswagen      manuell      64655\n",
       "                automatik    10264\n",
       "volvo           manuell       2217\n",
       "                automatik      991\n",
       "Name: gearbox, Length: 80, dtype: int64"
      ]
     },
     "execution_count": 26,
     "metadata": {},
     "output_type": "execute_result"
    }
   ],
   "source": [
    "df.groupby(\"brand\")[\"gearbox\"].value_counts()"
   ]
  },
  {
   "cell_type": "code",
   "execution_count": 27,
   "metadata": {},
   "outputs": [],
   "source": [
    "gearbox = df[\"gearbox\"].unique()\n",
    "brand = df[\"brand\"].unique()\n",
    "d = {}\n",
    "\n",
    "for i in brand :\n",
    "    m = 0\n",
    "    for j in gearbox :\n",
    "        if df[(df.gearbox == j) & (df.brand == i)].shape[0] > m :\n",
    "            m = df[(df.gearbox == j) & (df.brand == i)].shape[0]\n",
    "            d[i] = j"
   ]
  },
  {
   "cell_type": "code",
   "execution_count": 28,
   "metadata": {},
   "outputs": [],
   "source": [
    "for i in brand :\n",
    "    df.loc[(df.brand == i) & (df.gearbox.isnull()) ,\"gearbox\" ] = d[i]"
   ]
  },
  {
   "cell_type": "code",
   "execution_count": 29,
   "metadata": {},
   "outputs": [
    {
     "data": {
      "text/plain": [
       "0"
      ]
     },
     "execution_count": 29,
     "metadata": {},
     "output_type": "execute_result"
    }
   ],
   "source": [
    "df[\"gearbox\"].isnull().sum()"
   ]
  },
  {
   "cell_type": "markdown",
   "metadata": {},
   "source": [
    "### <font color='blue'> use most frequent label to fill Na"
   ]
  },
  {
   "cell_type": "markdown",
   "metadata": {},
   "source": [
    "### Filling missing value for notRepairedDamage variable"
   ]
  },
  {
   "cell_type": "code",
   "execution_count": 30,
   "metadata": {},
   "outputs": [
    {
     "data": {
      "text/plain": [
       "nein    263182\n",
       "ja       36286\n",
       "Name: notRepairedDamage, dtype: int64"
      ]
     },
     "execution_count": 30,
     "metadata": {},
     "output_type": "execute_result"
    }
   ],
   "source": [
    "df[\"notRepairedDamage\"].value_counts()"
   ]
  },
  {
   "cell_type": "code",
   "execution_count": 31,
   "metadata": {},
   "outputs": [],
   "source": [
    "df[\"notRepairedDamage\"].fillna(\"nein\",inplace = True)"
   ]
  },
  {
   "cell_type": "markdown",
   "metadata": {},
   "source": [
    "### Filling missing value for fuelType variable"
   ]
  },
  {
   "cell_type": "code",
   "execution_count": 32,
   "metadata": {},
   "outputs": [
    {
     "data": {
      "text/plain": [
       "benzin     223857\n",
       "diesel     107746\n",
       "lpg          5378\n",
       "cng           571\n",
       "hybrid        278\n",
       "andere        208\n",
       "elektro       104\n",
       "Name: fuelType, dtype: int64"
      ]
     },
     "execution_count": 32,
     "metadata": {},
     "output_type": "execute_result"
    }
   ],
   "source": [
    "df[\"fuelType\"].value_counts()"
   ]
  },
  {
   "cell_type": "code",
   "execution_count": 33,
   "metadata": {},
   "outputs": [],
   "source": [
    "df[\"fuelType\"].fillna(\"benzin\",inplace = True)"
   ]
  },
  {
   "cell_type": "code",
   "execution_count": 34,
   "metadata": {},
   "outputs": [
    {
     "data": {
      "text/plain": [
       "0"
      ]
     },
     "execution_count": 34,
     "metadata": {},
     "output_type": "execute_result"
    }
   ],
   "source": [
    "df[\"fuelType\"].isnull().sum()"
   ]
  },
  {
   "cell_type": "markdown",
   "metadata": {},
   "source": [
    "### <font color='blue'>use fuelType to fill out missing vehicltype (same fueltype more likely to have same vehicle type)"
   ]
  },
  {
   "cell_type": "markdown",
   "metadata": {},
   "source": [
    "### Filling missing value for vehicleType variable"
   ]
  },
  {
   "cell_type": "code",
   "execution_count": 35,
   "metadata": {},
   "outputs": [
    {
     "data": {
      "text/plain": [
       "limousine     95894\n",
       "kleinwagen    80023\n",
       "kombi         67564\n",
       "bus           30201\n",
       "cabrio        22898\n",
       "coupe         19015\n",
       "suv           14707\n",
       "andere         3357\n",
       "Name: vehicleType, dtype: int64"
      ]
     },
     "execution_count": 35,
     "metadata": {},
     "output_type": "execute_result"
    }
   ],
   "source": [
    "df[\"vehicleType\"].value_counts()"
   ]
  },
  {
   "cell_type": "code",
   "execution_count": 36,
   "metadata": {},
   "outputs": [
    {
     "data": {
      "text/plain": [
       "fuelType  vehicleType\n",
       "andere    limousine         51\n",
       "          andere            44\n",
       "          kleinwagen        29\n",
       "          kombi             25\n",
       "          bus               10\n",
       "          suv                9\n",
       "          cabrio             6\n",
       "          coupe              3\n",
       "benzin    kleinwagen     72531\n",
       "          limousine      66300\n",
       "          kombi          31350\n",
       "          cabrio         20769\n",
       "          coupe          15935\n",
       "          bus            10795\n",
       "          suv             5400\n",
       "          andere          1786\n",
       "cng       bus              240\n",
       "          kombi            136\n",
       "          kleinwagen        80\n",
       "          limousine         40\n",
       "          andere            14\n",
       "          suv                4\n",
       "          cabrio             3\n",
       "          coupe              3\n",
       "diesel    kombi          34848\n",
       "          limousine      27648\n",
       "          bus            18622\n",
       "          suv             8665\n",
       "          kleinwagen      6808\n",
       "          coupe           2737\n",
       "          cabrio          1871\n",
       "          andere          1469\n",
       "elektro   kleinwagen        51\n",
       "          limousine         15\n",
       "          andere            12\n",
       "          coupe              7\n",
       "          cabrio             6\n",
       "          kombi              5\n",
       "          suv                3\n",
       "          bus                1\n",
       "hybrid    limousine        151\n",
       "          kleinwagen        38\n",
       "          kombi             27\n",
       "          suv               20\n",
       "          coupe             18\n",
       "          bus                6\n",
       "          andere             2\n",
       "lpg       limousine       1689\n",
       "          kombi           1173\n",
       "          suv              606\n",
       "          bus              527\n",
       "          kleinwagen       486\n",
       "          coupe            312\n",
       "          cabrio           243\n",
       "          andere            30\n",
       "Name: vehicleType, dtype: int64"
      ]
     },
     "execution_count": 36,
     "metadata": {},
     "output_type": "execute_result"
    }
   ],
   "source": [
    "df.groupby(\"fuelType\")[\"vehicleType\"].value_counts()"
   ]
  },
  {
   "cell_type": "code",
   "execution_count": 37,
   "metadata": {},
   "outputs": [
    {
     "name": "stdout",
     "output_type": "stream",
     "text": [
      "['benzin' 'diesel' 'lpg' 'andere' 'hybrid' 'cng' 'elektro']\n",
      "[nan 'coupe' 'suv' 'kleinwagen' 'limousine' 'cabrio' 'bus' 'kombi'\n",
      " 'andere']\n"
     ]
    }
   ],
   "source": [
    "vehicleType = df[\"vehicleType\"].unique()\n",
    "fuelType = df[\"fuelType\"].unique()\n",
    "print(fuelType)\n",
    "print(vehicleType)\n",
    " \n",
    "vehicleType = np.delete(vehicleType,0)"
   ]
  },
  {
   "cell_type": "code",
   "execution_count": 38,
   "metadata": {},
   "outputs": [],
   "source": [
    "d = {}\n",
    "for i in fuelType :\n",
    "    m = 0\n",
    "    for j in vehicleType :\n",
    "        if df[(df.vehicleType == j) & (df.fuelType == i)].shape[0] > m :\n",
    "            m = df[(df.vehicleType == j) & (df.fuelType == i)].shape[0]\n",
    "            d[i] = j"
   ]
  },
  {
   "cell_type": "code",
   "execution_count": 39,
   "metadata": {},
   "outputs": [],
   "source": [
    "for i in fuelType :\n",
    "    df.loc[(df.fuelType == i) & (df.vehicleType.isnull()) ,\"vehicleType\" ] = d[i]"
   ]
  },
  {
   "cell_type": "code",
   "execution_count": 40,
   "metadata": {},
   "outputs": [
    {
     "data": {
      "text/plain": [
       "0"
      ]
     },
     "execution_count": 40,
     "metadata": {},
     "output_type": "execute_result"
    }
   ],
   "source": [
    "df[\"vehicleType\"].isnull().sum()"
   ]
  },
  {
   "cell_type": "markdown",
   "metadata": {},
   "source": [
    "### drop model\n",
    "We already have the brand feature, these 2 variable are highly correlate so we droped it"
   ]
  },
  {
   "cell_type": "code",
   "execution_count": 41,
   "metadata": {},
   "outputs": [],
   "source": [
    "df.drop(['model'], axis=1,inplace=True)"
   ]
  },
  {
   "cell_type": "markdown",
   "metadata": {},
   "source": [
    "## remove outlier"
   ]
  },
  {
   "cell_type": "code",
   "execution_count": 42,
   "metadata": {},
   "outputs": [
    {
     "data": {
      "text/plain": [
       "count    371528.000000\n",
       "mean       2004.577997\n",
       "std          92.866598\n",
       "min        1000.000000\n",
       "25%        1999.000000\n",
       "50%        2003.000000\n",
       "75%        2008.000000\n",
       "max        9999.000000\n",
       "Name: yearOfRegistration, dtype: float64"
      ]
     },
     "execution_count": 42,
     "metadata": {},
     "output_type": "execute_result"
    }
   ],
   "source": [
    "df[\"yearOfRegistration\"].describe()"
   ]
  },
  {
   "cell_type": "code",
   "execution_count": 43,
   "metadata": {},
   "outputs": [
    {
     "data": {
      "text/plain": [
       "(4134, 11)"
      ]
     },
     "execution_count": 43,
     "metadata": {},
     "output_type": "execute_result"
    }
   ],
   "source": [
    "df[df.yearOfRegistration > 2017].shape"
   ]
  },
  {
   "cell_type": "code",
   "execution_count": 44,
   "metadata": {},
   "outputs": [
    {
     "data": {
      "text/plain": [
       "(289, 11)"
      ]
     },
     "execution_count": 44,
     "metadata": {},
     "output_type": "execute_result"
    }
   ],
   "source": [
    "df[df.yearOfRegistration < 1950].shape"
   ]
  },
  {
   "cell_type": "markdown",
   "metadata": {},
   "source": [
    "### <font color='blue'> So only 289 registration are there before 1950 and 4000 registration after 2017 , so these are outliers and should be removed for better results"
   ]
  },
  {
   "cell_type": "code",
   "execution_count": 45,
   "metadata": {},
   "outputs": [],
   "source": [
    "df = df[(df.yearOfRegistration < 2017)  & (df.yearOfRegistration > 1950)]"
   ]
  },
  {
   "cell_type": "code",
   "execution_count": 46,
   "metadata": {},
   "outputs": [
    {
     "data": {
      "text/plain": [
       "count    3.565370e+05\n",
       "mean     1.739899e+04\n",
       "std      3.658497e+06\n",
       "min      0.000000e+00\n",
       "25%      1.150000e+03\n",
       "50%      2.999000e+03\n",
       "75%      7.400000e+03\n",
       "max      2.147484e+09\n",
       "Name: price, dtype: float64"
      ]
     },
     "execution_count": 46,
     "metadata": {},
     "output_type": "execute_result"
    }
   ],
   "source": [
    "# now lets look at the price\n",
    "df[\"price\"].describe()"
   ]
  },
  {
   "cell_type": "markdown",
   "metadata": {},
   "source": [
    "### <font color='blue'> price starts from 0 and goes upto max 2.147484e+09 , but the price 0 is unrealistic, so we drop those rows. Only 158 values are there above 2 lakh and 12000 enries below 100, lets remove them"
   ]
  },
  {
   "cell_type": "code",
   "execution_count": 47,
   "metadata": {},
   "outputs": [
    {
     "data": {
      "text/plain": [
       "(12372, 11)"
      ]
     },
     "execution_count": 47,
     "metadata": {},
     "output_type": "execute_result"
    }
   ],
   "source": [
    "df[df.price < 100].shape"
   ]
  },
  {
   "cell_type": "code",
   "execution_count": 48,
   "metadata": {},
   "outputs": [
    {
     "data": {
      "text/plain": [
       "(158, 11)"
      ]
     },
     "execution_count": 48,
     "metadata": {},
     "output_type": "execute_result"
    }
   ],
   "source": [
    "df[df.price > 200000].shape\n",
    "#only 158 values are there above 2 lakh and 12000 enries below 100, lets remove them"
   ]
  },
  {
   "cell_type": "code",
   "execution_count": 49,
   "metadata": {},
   "outputs": [],
   "source": [
    "df = df[(df.price > 100) & (df.price < 200000) ]"
   ]
  },
  {
   "cell_type": "code",
   "execution_count": 50,
   "metadata": {},
   "outputs": [
    {
     "data": {
      "text/plain": [
       "(342990, 11)"
      ]
     },
     "execution_count": 50,
     "metadata": {},
     "output_type": "execute_result"
    }
   ],
   "source": [
    "df.shape"
   ]
  },
  {
   "cell_type": "markdown",
   "metadata": {},
   "source": [
    "## Data transformation"
   ]
  },
  {
   "cell_type": "code",
   "execution_count": 51,
   "metadata": {},
   "outputs": [],
   "source": [
    "from sklearn.preprocessing import LabelEncoder"
   ]
  },
  {
   "cell_type": "code",
   "execution_count": 52,
   "metadata": {},
   "outputs": [],
   "source": [
    "data = df.copy()"
   ]
  },
  {
   "cell_type": "code",
   "execution_count": 53,
   "metadata": {},
   "outputs": [],
   "source": [
    "data[\"vehicleType\"] =LabelEncoder().fit_transform(data[\"vehicleType\"])\n",
    "data[\"fuelType\"] =LabelEncoder().fit_transform(data[\"fuelType\"])\n",
    "data[\"gearbox\"] =LabelEncoder().fit_transform(data[\"gearbox\"])\n",
    "data[\"notRepairedDamage\"] =LabelEncoder().fit_transform(data[\"notRepairedDamage\"])\n",
    "data[\"brand\"] =LabelEncoder().fit_transform(data[\"brand\"])\n",
    "data[\"abtest\"] =LabelEncoder().fit_transform(data[\"abtest\"])"
   ]
  },
  {
   "cell_type": "markdown",
   "metadata": {},
   "source": [
    "## Train Test Split"
   ]
  },
  {
   "cell_type": "code",
   "execution_count": 54,
   "metadata": {},
   "outputs": [],
   "source": [
    "np.random.seed(123)\n",
    "y  = data[\"price\"]\n",
    "x =  data.drop(\"price\",axis=1)"
   ]
  },
  {
   "cell_type": "code",
   "execution_count": 55,
   "metadata": {},
   "outputs": [],
   "source": [
    "x_train, x_test, y_train, y_test = train_test_split(x, y, random_state = 0)"
   ]
  },
  {
   "cell_type": "code",
   "execution_count": 56,
   "metadata": {},
   "outputs": [],
   "source": [
    "from sklearn.preprocessing import StandardScaler\n",
    "ss = StandardScaler()\n",
    "x_train = ss.fit_transform(x_train)\n",
    "x_test = ss.transform(x_test)"
   ]
  },
  {
   "cell_type": "markdown",
   "metadata": {},
   "source": [
    "## Small set, for some model that too time consumming"
   ]
  },
  {
   "cell_type": "code",
   "execution_count": 57,
   "metadata": {},
   "outputs": [
    {
     "name": "stdout",
     "output_type": "stream",
     "text": [
      "(3430, 10) (3430,)\n"
     ]
    }
   ],
   "source": [
    "np.random.seed(123)\n",
    "y  = data[\"price\"]\n",
    "x =  data.drop(\"price\",axis=1)\n",
    "\n",
    "_, sample_X, _, sample_y = train_test_split(x, y, shuffle = False, test_size = 0.01)\n",
    "print(sample_X.shape,sample_y.shape)\n",
    "\n",
    "small_x_train, small_x_test, small_y_train, small_y_test=train_test_split(sample_X, sample_y, test_size=0.25, random_state=0)"
   ]
  },
  {
   "cell_type": "code",
   "execution_count": 58,
   "metadata": {},
   "outputs": [
    {
     "name": "stdout",
     "output_type": "stream",
     "text": [
      "(2572, 10)\n",
      "(2572,)\n",
      "(858, 10)\n",
      "(858,)\n"
     ]
    }
   ],
   "source": [
    "print(small_x_train.shape)\n",
    "print(small_y_train.shape)\n",
    "\n",
    "print(small_x_test.shape)\n",
    "print(small_y_test.shape)"
   ]
  },
  {
   "cell_type": "markdown",
   "metadata": {},
   "source": [
    "## Bagging RF"
   ]
  },
  {
   "cell_type": "code",
   "execution_count": 66,
   "metadata": {},
   "outputs": [
    {
     "data": {
      "text/plain": [
       "BaggingRegressor(base_estimator=RandomForestRegressor(bootstrap=True,\n",
       "                                                      criterion='mse',\n",
       "                                                      max_depth=None,\n",
       "                                                      max_features='auto',\n",
       "                                                      max_leaf_nodes=None,\n",
       "                                                      min_impurity_decrease=0.0,\n",
       "                                                      min_impurity_split=None,\n",
       "                                                      min_samples_leaf=1,\n",
       "                                                      min_samples_split=2,\n",
       "                                                      min_weight_fraction_leaf=0.0,\n",
       "                                                      n_estimators=100,\n",
       "                                                      n_jobs=None,\n",
       "                                                      oob_score=False,\n",
       "                                                      random_state=None,\n",
       "                                                      verbose=0,\n",
       "                                                      warm_start=False),\n",
       "                 bootstrap=True, bootstrap_features=False, max_features=1.0,\n",
       "                 max_samples=100, n_estimators=500, n_jobs=None, oob_score=True,\n",
       "                 random_state=0, verbose=0, warm_start=False)"
      ]
     },
     "execution_count": 66,
     "metadata": {},
     "output_type": "execute_result"
    },
    {
     "name": "stdout",
     "output_type": "stream",
     "text": [
      "Train score: 0.6058\n",
      "Test score: 0.5827\n"
     ]
    }
   ],
   "source": [
    "from sklearn.ensemble import BaggingRegressor\n",
    "from sklearn.linear_model import LinearRegression\n",
    "\n",
    "lr_clf = RandomForestRegressor(n_estimators=100)\n",
    "bag_clf = BaggingRegressor(lr_clf, n_estimators=500, max_samples=100, bootstrap=True, random_state=0, oob_score=True)\n",
    "\n",
    "bag_clf.fit(small_x_train, small_y_train)\n",
    "y_pred = bag_clf.predict(small_x_test)\n",
    "print('Train score: {:.4f}'.format(bag_clf.score(small_x_train, small_y_train)))\n",
    "print('Test score: {:.4f}'.format(bag_clf.score(small_x_test, small_y_test)))"
   ]
  },
  {
   "cell_type": "markdown",
   "metadata": {},
   "source": [
    "## Bagging KNN regression"
   ]
  },
  {
   "cell_type": "code",
   "execution_count": 67,
   "metadata": {},
   "outputs": [
    {
     "data": {
      "text/plain": [
       "BaggingRegressor(base_estimator=KNeighborsRegressor(algorithm='auto',\n",
       "                                                    leaf_size=30,\n",
       "                                                    metric='minkowski',\n",
       "                                                    metric_params=None,\n",
       "                                                    n_jobs=None, n_neighbors=7,\n",
       "                                                    p=2, weights='uniform'),\n",
       "                 bootstrap=True, bootstrap_features=False, max_features=1.0,\n",
       "                 max_samples=100, n_estimators=500, n_jobs=None, oob_score=True,\n",
       "                 random_state=0, verbose=0, warm_start=False)"
      ]
     },
     "execution_count": 67,
     "metadata": {},
     "output_type": "execute_result"
    },
    {
     "name": "stdout",
     "output_type": "stream",
     "text": [
      "Train score: 0.3214\n",
      "Test score: 0.2675\n"
     ]
    }
   ],
   "source": [
    "from sklearn.neighbors import KNeighborsRegressor\n",
    "knn_reg = KNeighborsRegressor(7)\n",
    "bag_reg = BaggingRegressor(knn_reg, n_estimators=500, max_samples=100, bootstrap=True, random_state=0, oob_score=True)\n",
    "\n",
    "bag_reg.fit(small_x_train, small_y_train)\n",
    "y_pred = bag_reg.predict(small_x_test)\n",
    "print('Train score: {:.4f}'.format(bag_reg.score(small_x_train, small_y_train)))\n",
    "print('Test score: {:.4f}'.format(bag_reg.score(small_x_test, small_y_test)))"
   ]
  },
  {
   "cell_type": "markdown",
   "metadata": {},
   "source": [
    "## Pasting RF"
   ]
  },
  {
   "cell_type": "code",
   "execution_count": 209,
   "metadata": {},
   "outputs": [
    {
     "data": {
      "text/plain": [
       "BaggingRegressor(base_estimator=RandomForestRegressor(bootstrap=True,\n",
       "                                                      criterion='mse',\n",
       "                                                      max_depth=None,\n",
       "                                                      max_features='auto',\n",
       "                                                      max_leaf_nodes=None,\n",
       "                                                      min_impurity_decrease=0.0,\n",
       "                                                      min_impurity_split=None,\n",
       "                                                      min_samples_leaf=1,\n",
       "                                                      min_samples_split=2,\n",
       "                                                      min_weight_fraction_leaf=0.0,\n",
       "                                                      n_estimators=100,\n",
       "                                                      n_jobs=None,\n",
       "                                                      oob_score=False,\n",
       "                                                      random_state=None,\n",
       "                                                      verbose=0,\n",
       "                                                      warm_start=False),\n",
       "                 bootstrap=False, bootstrap_features=False, max_features=1.0,\n",
       "                 max_samples=100, n_estimators=500, n_jobs=None,\n",
       "                 oob_score=False, random_state=0, verbose=0, warm_start=False)"
      ]
     },
     "execution_count": 209,
     "metadata": {},
     "output_type": "execute_result"
    },
    {
     "name": "stdout",
     "output_type": "stream",
     "text": [
      "Train score: 0.5756\n",
      "Test score: 0.5516\n"
     ]
    }
   ],
   "source": [
    "#bootsrap = false\n",
    "\n",
    "from sklearn.ensemble import BaggingRegressor\n",
    "from sklearn.linear_model import LinearRegression\n",
    "\n",
    "lr_clf = RandomForestRegressor(n_estimators=100)\n",
    "bag_clf = BaggingRegressor(lr_clf, n_estimators=500, max_samples=100, bootstrap=False, random_state=0)\n",
    "\n",
    "bag_clf.fit(x_train, y_train)\n",
    "y_pred = bag_clf.predict(x_test)\n",
    "print('Train score: {:.4f}'.format(bag_clf.score(x_train, y_train)))\n",
    "print('Test score: {:.4f}'.format(bag_clf.score(x_test, y_test)))"
   ]
  },
  {
   "cell_type": "markdown",
   "metadata": {},
   "source": [
    "## Pasting KNN regression"
   ]
  },
  {
   "cell_type": "code",
   "execution_count": 210,
   "metadata": {},
   "outputs": [
    {
     "data": {
      "text/plain": [
       "BaggingRegressor(base_estimator=KNeighborsRegressor(algorithm='auto',\n",
       "                                                    leaf_size=30,\n",
       "                                                    metric='minkowski',\n",
       "                                                    metric_params=None,\n",
       "                                                    n_jobs=None, n_neighbors=7,\n",
       "                                                    p=2, weights='uniform'),\n",
       "                 bootstrap=False, bootstrap_features=False, max_features=1.0,\n",
       "                 max_samples=100, n_estimators=500, n_jobs=None,\n",
       "                 oob_score=False, random_state=0, verbose=0, warm_start=False)"
      ]
     },
     "execution_count": 210,
     "metadata": {},
     "output_type": "execute_result"
    },
    {
     "name": "stdout",
     "output_type": "stream",
     "text": [
      "Train score: 0.3342\n",
      "Test score: 0.3185\n"
     ]
    }
   ],
   "source": [
    "#bootsrap = false\n",
    "\n",
    "knn_reg = KNeighborsRegressor(7)\n",
    "bag_reg = BaggingRegressor(knn_reg, n_estimators=500, max_samples=100, bootstrap=False, random_state=0)\n",
    "\n",
    "bag_reg.fit(x_train, y_train)\n",
    "y_pred = bag_reg.predict(x_test)\n",
    "print('Train score: {:.4f}'.format(bag_reg.score(x_train, y_train)))\n",
    "print('Test score: {:.4f}'.format(bag_reg.score(x_test, y_test)))"
   ]
  },
  {
   "cell_type": "markdown",
   "metadata": {},
   "source": [
    "## Gradient Boosting"
   ]
  },
  {
   "cell_type": "markdown",
   "metadata": {},
   "source": [
    "## Fixed n_estimators"
   ]
  },
  {
   "cell_type": "code",
   "execution_count": 217,
   "metadata": {},
   "outputs": [
    {
     "data": {
      "text/plain": [
       "GradientBoostingRegressor(alpha=0.9, criterion='friedman_mse', init=None,\n",
       "                          learning_rate=1.0, loss='ls', max_depth=2,\n",
       "                          max_features=None, max_leaf_nodes=None,\n",
       "                          min_impurity_decrease=0.0, min_impurity_split=None,\n",
       "                          min_samples_leaf=1, min_samples_split=2,\n",
       "                          min_weight_fraction_leaf=0.0, n_estimators=200,\n",
       "                          n_iter_no_change=None, presort='auto',\n",
       "                          random_state=42, subsample=1.0, tol=0.0001,\n",
       "                          validation_fraction=0.1, verbose=0, warm_start=False)"
      ]
     },
     "execution_count": 217,
     "metadata": {},
     "output_type": "execute_result"
    },
    {
     "name": "stdout",
     "output_type": "stream",
     "text": [
      "Accuracy on training set: 0.7983\n",
      "Accuracy on test set: 0.7521\n"
     ]
    }
   ],
   "source": [
    "from  sklearn.ensemble import GradientBoostingRegressor\n",
    "\n",
    "gbrt = GradientBoostingRegressor(max_depth=2, n_estimators=200, learning_rate=1.0, random_state=42)\n",
    "gbrt.fit(x_train, y_train)\n",
    "print(\"Accuracy on training set: {:.4f}\".format(gbrt.score(x_train, y_train)))\n",
    "print(\"Accuracy on test set: {:.4f}\".format(gbrt.score(x_test, y_test)))"
   ]
  },
  {
   "cell_type": "code",
   "execution_count": 218,
   "metadata": {},
   "outputs": [
    {
     "data": {
      "text/plain": [
       "GradientBoostingRegressor(alpha=0.9, criterion='friedman_mse', init=None,\n",
       "                          learning_rate=0.5, loss='ls', max_depth=2,\n",
       "                          max_features=None, max_leaf_nodes=None,\n",
       "                          min_impurity_decrease=0.0, min_impurity_split=None,\n",
       "                          min_samples_leaf=1, min_samples_split=2,\n",
       "                          min_weight_fraction_leaf=0.0, n_estimators=200,\n",
       "                          n_iter_no_change=None, presort='auto',\n",
       "                          random_state=42, subsample=1.0, tol=0.0001,\n",
       "                          validation_fraction=0.1, verbose=0, warm_start=False)"
      ]
     },
     "execution_count": 218,
     "metadata": {},
     "output_type": "execute_result"
    },
    {
     "name": "stdout",
     "output_type": "stream",
     "text": [
      "Accuracy on training set: 0.7934\n",
      "Accuracy on test set: 0.7548\n"
     ]
    }
   ],
   "source": [
    "gbrt = GradientBoostingRegressor(max_depth=2, n_estimators=200, learning_rate=0.5, random_state=42)\n",
    "gbrt.fit(x_train, y_train)\n",
    "print(\"Accuracy on training set: {:.4f}\".format(gbrt.score(x_train, y_train)))\n",
    "print(\"Accuracy on test set: {:.4f}\".format(gbrt.score(x_test, y_test)))"
   ]
  },
  {
   "cell_type": "code",
   "execution_count": 219,
   "metadata": {},
   "outputs": [
    {
     "data": {
      "text/plain": [
       "GradientBoostingRegressor(alpha=0.9, criterion='friedman_mse', init=None,\n",
       "                          learning_rate=0.1, loss='ls', max_depth=2,\n",
       "                          max_features=None, max_leaf_nodes=None,\n",
       "                          min_impurity_decrease=0.0, min_impurity_split=None,\n",
       "                          min_samples_leaf=1, min_samples_split=2,\n",
       "                          min_weight_fraction_leaf=0.0, n_estimators=200,\n",
       "                          n_iter_no_change=None, presort='auto',\n",
       "                          random_state=42, subsample=1.0, tol=0.0001,\n",
       "                          validation_fraction=0.1, verbose=0, warm_start=False)"
      ]
     },
     "execution_count": 219,
     "metadata": {},
     "output_type": "execute_result"
    },
    {
     "name": "stdout",
     "output_type": "stream",
     "text": [
      "Accuracy on training set: 0.7513\n",
      "Accuracy on test set: 0.7219\n"
     ]
    }
   ],
   "source": [
    "gbrt = GradientBoostingRegressor(max_depth=2, n_estimators=200, learning_rate=0.1, random_state=42)\n",
    "gbrt.fit(x_train, y_train)\n",
    "print(\"Accuracy on training set: {:.4f}\".format(gbrt.score(x_train, y_train)))\n",
    "print(\"Accuracy on test set: {:.4f}\".format(gbrt.score(x_test, y_test)))"
   ]
  },
  {
   "cell_type": "markdown",
   "metadata": {},
   "source": [
    "### <font color='blue'> learning rate = 0.5 has the best outcome"
   ]
  },
  {
   "cell_type": "markdown",
   "metadata": {},
   "source": [
    "# Fixed Learning_rate"
   ]
  },
  {
   "cell_type": "code",
   "execution_count": 214,
   "metadata": {},
   "outputs": [
    {
     "data": {
      "text/plain": [
       "GradientBoostingRegressor(alpha=0.9, criterion='friedman_mse', init=None,\n",
       "                          learning_rate=1.0, loss='ls', max_depth=2,\n",
       "                          max_features=None, max_leaf_nodes=None,\n",
       "                          min_impurity_decrease=0.0, min_impurity_split=None,\n",
       "                          min_samples_leaf=1, min_samples_split=2,\n",
       "                          min_weight_fraction_leaf=0.0, n_estimators=3,\n",
       "                          n_iter_no_change=None, presort='auto',\n",
       "                          random_state=42, subsample=1.0, tol=0.0001,\n",
       "                          validation_fraction=0.1, verbose=0, warm_start=False)"
      ]
     },
     "execution_count": 214,
     "metadata": {},
     "output_type": "execute_result"
    },
    {
     "name": "stdout",
     "output_type": "stream",
     "text": [
      "Accuracy on training set: 0.5406\n",
      "Accuracy on test set: 0.5212\n"
     ]
    }
   ],
   "source": [
    "gbrt = GradientBoostingRegressor(max_depth=2, n_estimators=3, learning_rate=1.0, random_state=42)\n",
    "gbrt.fit(x_train, y_train)\n",
    "print(\"Accuracy on training set: {:.4f}\".format(gbrt.score(x_train, y_train)))\n",
    "print(\"Accuracy on test set: {:.4f}\".format(gbrt.score(x_test, y_test)))"
   ]
  },
  {
   "cell_type": "code",
   "execution_count": 215,
   "metadata": {},
   "outputs": [
    {
     "data": {
      "text/plain": [
       "GradientBoostingRegressor(alpha=0.9, criterion='friedman_mse', init=None,\n",
       "                          learning_rate=1.0, loss='ls', max_depth=2,\n",
       "                          max_features=None, max_leaf_nodes=None,\n",
       "                          min_impurity_decrease=0.0, min_impurity_split=None,\n",
       "                          min_samples_leaf=1, min_samples_split=2,\n",
       "                          min_weight_fraction_leaf=0.0, n_estimators=100,\n",
       "                          n_iter_no_change=None, presort='auto',\n",
       "                          random_state=42, subsample=1.0, tol=0.0001,\n",
       "                          validation_fraction=0.1, verbose=0, warm_start=False)"
      ]
     },
     "execution_count": 215,
     "metadata": {},
     "output_type": "execute_result"
    },
    {
     "name": "stdout",
     "output_type": "stream",
     "text": [
      "Accuracy on training set: 0.7785\n",
      "Accuracy on test set: 0.7399\n"
     ]
    }
   ],
   "source": [
    "gbrt = GradientBoostingRegressor(max_depth=2, n_estimators=100, learning_rate=1.0, random_state=42)\n",
    "gbrt.fit(x_train, y_train)\n",
    "print(\"Accuracy on training set: {:.4f}\".format(gbrt.score(x_train, y_train)))\n",
    "print(\"Accuracy on test set: {:.4f}\".format(gbrt.score(x_test, y_test)))"
   ]
  },
  {
   "cell_type": "code",
   "execution_count": 216,
   "metadata": {},
   "outputs": [
    {
     "data": {
      "text/plain": [
       "GradientBoostingRegressor(alpha=0.9, criterion='friedman_mse', init=None,\n",
       "                          learning_rate=1.0, loss='ls', max_depth=2,\n",
       "                          max_features=None, max_leaf_nodes=None,\n",
       "                          min_impurity_decrease=0.0, min_impurity_split=None,\n",
       "                          min_samples_leaf=1, min_samples_split=2,\n",
       "                          min_weight_fraction_leaf=0.0, n_estimators=200,\n",
       "                          n_iter_no_change=None, presort='auto',\n",
       "                          random_state=42, subsample=1.0, tol=0.0001,\n",
       "                          validation_fraction=0.1, verbose=0, warm_start=False)"
      ]
     },
     "execution_count": 216,
     "metadata": {},
     "output_type": "execute_result"
    },
    {
     "name": "stdout",
     "output_type": "stream",
     "text": [
      "Accuracy on training set: 0.7983\n",
      "Accuracy on test set: 0.7521\n"
     ]
    }
   ],
   "source": [
    "gbrt = GradientBoostingRegressor(max_depth=2, n_estimators=200, learning_rate=1.0, random_state=42)\n",
    "gbrt.fit(x_train, y_train)\n",
    "print(\"Accuracy on training set: {:.4f}\".format(gbrt.score(x_train, y_train)))\n",
    "print(\"Accuracy on test set: {:.4f}\".format(gbrt.score(x_test, y_test)))"
   ]
  },
  {
   "cell_type": "markdown",
   "metadata": {},
   "source": [
    "## <font color='blue'> 200 estimators has better result"
   ]
  },
  {
   "cell_type": "markdown",
   "metadata": {},
   "source": [
    "## Adaboosting"
   ]
  },
  {
   "cell_type": "code",
   "execution_count": 68,
   "metadata": {},
   "outputs": [
    {
     "data": {
      "text/plain": [
       "AdaBoostRegressor(base_estimator=KNeighborsRegressor(algorithm='auto',\n",
       "                                                     leaf_size=30,\n",
       "                                                     metric='minkowski',\n",
       "                                                     metric_params=None,\n",
       "                                                     n_jobs=None, n_neighbors=7,\n",
       "                                                     p=2, weights='uniform'),\n",
       "                  learning_rate=1.0, loss='linear', n_estimators=50,\n",
       "                  random_state=0)"
      ]
     },
     "execution_count": 68,
     "metadata": {},
     "output_type": "execute_result"
    }
   ],
   "source": [
    "# AdaBoost for KNN Regression\n",
    "from sklearn.neighbors import KNeighborsRegressor\n",
    "from sklearn.ensemble import AdaBoostRegressor\n",
    "knn_reg = KNeighborsRegressor(7)\n",
    "ada_knn_reg = AdaBoostRegressor(knn_reg, random_state=0)\n",
    "ada_knn_reg.fit(small_x_train, small_y_train)"
   ]
  },
  {
   "cell_type": "code",
   "execution_count": 73,
   "metadata": {},
   "outputs": [
    {
     "name": "stdout",
     "output_type": "stream",
     "text": [
      "AdaBoost for KNN Regression:\n",
      "Accuracy score: 0.3893\n"
     ]
    }
   ],
   "source": [
    "print(\"AdaBoost for KNN Regression:\")\n",
    "print('Accuracy score: {:.4f}'.format(ada_knn_reg.score(small_x_test, small_y_test)))"
   ]
  },
  {
   "cell_type": "code",
   "execution_count": 76,
   "metadata": {},
   "outputs": [
    {
     "data": {
      "text/plain": [
       "AdaBoostRegressor(base_estimator=LinearRegression(copy_X=True,\n",
       "                                                  fit_intercept=True,\n",
       "                                                  n_jobs=None,\n",
       "                                                  normalize=False),\n",
       "                  learning_rate=1.0, loss='linear', n_estimators=50,\n",
       "                  random_state=0)"
      ]
     },
     "execution_count": 76,
     "metadata": {},
     "output_type": "execute_result"
    },
    {
     "name": "stdout",
     "output_type": "stream",
     "text": [
      "AdaBoost for Linear Regression:\n",
      "Accuracy score: 0.1643\n"
     ]
    }
   ],
   "source": [
    "# AdaBoost for Linear Regression\n",
    "lr_reg = LinearRegression()\n",
    "ada_lr_reg = AdaBoostRegressor(lr_reg, random_state=0)\n",
    "ada_lr_reg.fit(x_train, y_train)\n",
    "y_pred = ada_lr_reg.predict(x_test)\n",
    "print(\"AdaBoost for Linear Regression:\")\n",
    "print('Accuracy score: {:.4f}'.format(ada_lr_reg.score(x_test, y_test)))"
   ]
  },
  {
   "cell_type": "markdown",
   "metadata": {},
   "source": [
    "### <font color = 'blue'> Adaboost for KNN is better than Linear Regression"
   ]
  },
  {
   "cell_type": "markdown",
   "metadata": {},
   "source": [
    "# PCA"
   ]
  },
  {
   "cell_type": "code",
   "execution_count": 65,
   "metadata": {},
   "outputs": [],
   "source": [
    "score_table = pd.DataFrame([], columns = ['Model', 'Train_score','Test_score','PCA_test'])"
   ]
  },
  {
   "cell_type": "code",
   "execution_count": 59,
   "metadata": {},
   "outputs": [
    {
     "name": "stdout",
     "output_type": "stream",
     "text": [
      "Explained variance ratio: 0.9999999999999997\n",
      "X_reduced shape: (257242, 10)\n",
      "n_components: 10\n"
     ]
    }
   ],
   "source": [
    "from sklearn.decomposition import PCA\n",
    "\n",
    "pca = PCA(n_components=0.95)\n",
    "X_reduced = pca.fit_transform(x_train)\n",
    "X_test_reduced = pca.transform(x_test)\n",
    "\n",
    "print(\"Explained variance ratio:\",np.sum(pca.explained_variance_ratio_))\n",
    "print(\"X_reduced shape:\",X_reduced.shape)\n",
    "print(\"n_components:\",pca.n_components_)"
   ]
  },
  {
   "cell_type": "markdown",
   "metadata": {},
   "source": [
    "## PCA Linear Regression"
   ]
  },
  {
   "cell_type": "code",
   "execution_count": 94,
   "metadata": {},
   "outputs": [
    {
     "data": {
      "text/plain": [
       "LinearRegression(copy_X=True, fit_intercept=True, n_jobs=None, normalize=False)"
      ]
     },
     "execution_count": 94,
     "metadata": {},
     "output_type": "execute_result"
    },
    {
     "name": "stdout",
     "output_type": "stream",
     "text": [
      "Train_PCA R-sq: 0.337577091941236\n",
      "Test_PCA R-sq 0.31996406364790286\n"
     ]
    },
    {
     "data": {
      "text/plain": [
       "LinearRegression(copy_X=True, fit_intercept=True, n_jobs=None, normalize=False)"
      ]
     },
     "execution_count": 94,
     "metadata": {},
     "output_type": "execute_result"
    },
    {
     "name": "stdout",
     "output_type": "stream",
     "text": [
      "Train R-sq: 0.4727494840275216\n",
      "Test R-sq 0.48777951083750537\n"
     ]
    }
   ],
   "source": [
    "from sklearn.linear_model import LinearRegression\n",
    "lreg = LinearRegression()\n",
    "lreg.fit(X_reduced, y_train)\n",
    "print('Train_PCA R-sq:',lreg.score(X_reduced, y_train))\n",
    "print('Test_PCA R-sq',lreg.score(X_test_reduced, y_test))\n",
    "\n",
    "temp=pd.DataFrame([[\"linear_reg_pca\",lreg.score(X_reduced, y_train),lreg.score(X_test_reduced, y_test),None]], columns = ['Model', 'Train_score','Test_score','PCA_test'])\n",
    "score_table=score_table.append(temp,ignore_index=True)\n",
    "\n",
    "lreg = LinearRegression()\n",
    "lreg.fit(small_x_train, small_y_train)\n",
    "print('Train R-sq:',lreg.score(small_x_train, small_y_train))\n",
    "print('Test R-sq',lreg.score(small_x_test, small_y_test))\n",
    "\n",
    "temp=pd.DataFrame([[\"linear_reg\",lreg.score(small_x_train, small_y_train),lreg.score(small_x_test, small_y_test),None]], columns = ['Model', 'Train_score','Test_score','PCA_test'])\n",
    "score_table=score_table.append(temp,ignore_index=True)\n"
   ]
  },
  {
   "cell_type": "markdown",
   "metadata": {},
   "source": [
    "## PCA Ridge"
   ]
  },
  {
   "cell_type": "code",
   "execution_count": null,
   "metadata": {},
   "outputs": [],
   "source": [
    "from sklearn.linear_model import Ridge"
   ]
  },
  {
   "cell_type": "code",
   "execution_count": 95,
   "metadata": {},
   "outputs": [
    {
     "data": {
      "text/plain": [
       "Ridge(alpha=100, copy_X=True, fit_intercept=True, max_iter=None,\n",
       "      normalize=False, random_state=0, solver='auto', tol=0.001)"
      ]
     },
     "execution_count": 95,
     "metadata": {},
     "output_type": "execute_result"
    },
    {
     "name": "stdout",
     "output_type": "stream",
     "text": [
      "Train_PCA R-sq: 0.3375770615750562\n",
      "Test_PCA R-sq 0.31996353808267974\n"
     ]
    },
    {
     "data": {
      "text/plain": [
       "Ridge(alpha=100, copy_X=True, fit_intercept=True, max_iter=None,\n",
       "      normalize=False, random_state=0, solver='auto', tol=0.001)"
      ]
     },
     "execution_count": 95,
     "metadata": {},
     "output_type": "execute_result"
    },
    {
     "name": "stdout",
     "output_type": "stream",
     "text": [
      "Train small score: 0.4714328568620486\n",
      "Test small score 0.48825747638866557\n"
     ]
    }
   ],
   "source": [
    "ridge_reg = Ridge(alpha=100, random_state=0)\n",
    "ridge_reg.fit(X_reduced, y_train)\n",
    "print('Train_PCA R-sq:',ridge_reg.score(X_reduced, y_train))\n",
    "print('Test_PCA R-sq',ridge_reg.score(X_test_reduced, y_test))\n",
    "\n",
    "temp=pd.DataFrame([[\"ridge_reg_pca\",ridge_reg.score(X_reduced, y_train),ridge_reg.score(X_test_reduced, y_test),None]], columns = ['Model', 'Train_score','Test_score','PCA_test'])\n",
    "score_table=score_table.append(temp,ignore_index=True)\n",
    "\n",
    "ridge_reg = Ridge(alpha=100, random_state=0)\n",
    "ridge_reg.fit(small_x_train, small_y_train)\n",
    "print('Train small score:',ridge_reg.score(small_x_train, small_y_train))\n",
    "print('Test small score',ridge_reg.score(small_x_test, small_y_test))\n",
    "\n",
    "temp=pd.DataFrame([[\"ridge_reg\",ridge_reg.score(small_x_train, small_y_train),ridge_reg.score(small_x_test,small_y_test),None]], columns = ['Model', 'Train_score','Test_score','PCA_test'])\n",
    "score_table=score_table.append(temp,ignore_index=True)\n"
   ]
  },
  {
   "cell_type": "markdown",
   "metadata": {},
   "source": [
    "## PCA KNN "
   ]
  },
  {
   "cell_type": "code",
   "execution_count": 89,
   "metadata": {},
   "outputs": [
    {
     "data": {
      "text/plain": [
       "KNeighborsRegressor(algorithm='auto', leaf_size=30, metric='minkowski',\n",
       "                    metric_params=None, n_jobs=None, n_neighbors=3, p=2,\n",
       "                    weights='uniform')"
      ]
     },
     "execution_count": 89,
     "metadata": {},
     "output_type": "execute_result"
    },
    {
     "name": "stdout",
     "output_type": "stream",
     "text": [
      "Train_PCA R-sq: 0.8728574106762056\n",
      "Test_PCA R-sq 0.708875866682346\n"
     ]
    },
    {
     "data": {
      "text/plain": [
       "KNeighborsRegressor(algorithm='auto', leaf_size=30, metric='minkowski',\n",
       "                    metric_params=None, n_jobs=None, n_neighbors=3, p=2,\n",
       "                    weights='uniform')"
      ]
     },
     "execution_count": 89,
     "metadata": {},
     "output_type": "execute_result"
    },
    {
     "name": "stdout",
     "output_type": "stream",
     "text": [
      "Train R-sq: 0.7606403597185619\n",
      "Test R-sq 0.474404947163662\n"
     ]
    }
   ],
   "source": [
    "from sklearn.neighbors import KNeighborsRegressor\n",
    "\n",
    "knn_reg = KNeighborsRegressor(3)\n",
    "knn_reg.fit(X_reduced, y_train)\n",
    "print('Train_PCA R-sq:',knn_reg.score(X_reduced, y_train))\n",
    "print('Test_PCA R-sq',knn_reg.score(X_test_reduced, y_test))\n",
    "\n",
    "knn_reg = KNeighborsRegressor(3)\n",
    "knn_reg.fit(small_x_train, small_y_train)\n",
    "print('Train R-sq:',knn_reg.score(small_x_train, small_y_train))\n",
    "print('Test R-sq',knn_reg.score(small_x_test, small_y_test))"
   ]
  },
  {
   "cell_type": "code",
   "execution_count": 96,
   "metadata": {},
   "outputs": [],
   "source": [
    "temp=pd.DataFrame([[\"knn_reg_pca\",knn_reg.score(X_reduced, y_train),knn_reg.score(X_test_reduced, y_test),None]], columns = ['Model', 'Train_score','Test_score','PCA_test'])\n",
    "score_table=score_table.append(temp,ignore_index=True)\n",
    "\n",
    "temp=pd.DataFrame([[\"knn_reg\",knn_reg.score(small_x_train, small_y_train),knn_reg.score(small_x_test,small_y_test),None]], columns = ['Model', 'Train_score','Test_score','PCA_test'])\n",
    "score_table=score_table.append(temp,ignore_index=True)"
   ]
  },
  {
   "cell_type": "code",
   "execution_count": 97,
   "metadata": {},
   "outputs": [
    {
     "data": {
      "text/html": [
       "<div>\n",
       "<style scoped>\n",
       "    .dataframe tbody tr th:only-of-type {\n",
       "        vertical-align: middle;\n",
       "    }\n",
       "\n",
       "    .dataframe tbody tr th {\n",
       "        vertical-align: top;\n",
       "    }\n",
       "\n",
       "    .dataframe thead th {\n",
       "        text-align: right;\n",
       "    }\n",
       "</style>\n",
       "<table border=\"1\" class=\"dataframe\">\n",
       "  <thead>\n",
       "    <tr style=\"text-align: right;\">\n",
       "      <th></th>\n",
       "      <th>Model</th>\n",
       "      <th>Train_score</th>\n",
       "      <th>Test_score</th>\n",
       "      <th>PCA_test</th>\n",
       "    </tr>\n",
       "  </thead>\n",
       "  <tbody>\n",
       "    <tr>\n",
       "      <th>0</th>\n",
       "      <td>linear_reg_pca</td>\n",
       "      <td>0.337577</td>\n",
       "      <td>0.319964</td>\n",
       "      <td>None</td>\n",
       "    </tr>\n",
       "    <tr>\n",
       "      <th>1</th>\n",
       "      <td>linear_reg_pca</td>\n",
       "      <td>0.337577</td>\n",
       "      <td>0.319964</td>\n",
       "      <td>None</td>\n",
       "    </tr>\n",
       "    <tr>\n",
       "      <th>2</th>\n",
       "      <td>linear_reg</td>\n",
       "      <td>0.472749</td>\n",
       "      <td>0.487780</td>\n",
       "      <td>None</td>\n",
       "    </tr>\n",
       "    <tr>\n",
       "      <th>3</th>\n",
       "      <td>ridge_reg_pca</td>\n",
       "      <td>0.337577</td>\n",
       "      <td>0.319964</td>\n",
       "      <td>None</td>\n",
       "    </tr>\n",
       "    <tr>\n",
       "      <th>4</th>\n",
       "      <td>ridge_reg</td>\n",
       "      <td>0.471433</td>\n",
       "      <td>0.488257</td>\n",
       "      <td>None</td>\n",
       "    </tr>\n",
       "    <tr>\n",
       "      <th>5</th>\n",
       "      <td>knn_reg_pca</td>\n",
       "      <td>-1.865627</td>\n",
       "      <td>-1.736097</td>\n",
       "      <td>None</td>\n",
       "    </tr>\n",
       "    <tr>\n",
       "      <th>6</th>\n",
       "      <td>knn_reg</td>\n",
       "      <td>0.760640</td>\n",
       "      <td>0.474405</td>\n",
       "      <td>None</td>\n",
       "    </tr>\n",
       "  </tbody>\n",
       "</table>\n",
       "</div>"
      ],
      "text/plain": [
       "            Model  Train_score  Test_score PCA_test\n",
       "0  linear_reg_pca     0.337577    0.319964     None\n",
       "1  linear_reg_pca     0.337577    0.319964     None\n",
       "2      linear_reg     0.472749    0.487780     None\n",
       "3   ridge_reg_pca     0.337577    0.319964     None\n",
       "4       ridge_reg     0.471433    0.488257     None\n",
       "5     knn_reg_pca    -1.865627   -1.736097     None\n",
       "6         knn_reg     0.760640    0.474405     None"
      ]
     },
     "execution_count": 97,
     "metadata": {},
     "output_type": "execute_result"
    }
   ],
   "source": [
    "score_table"
   ]
  },
  {
   "cell_type": "markdown",
   "metadata": {},
   "source": [
    "## PCA Lasso"
   ]
  },
  {
   "cell_type": "code",
   "execution_count": 98,
   "metadata": {},
   "outputs": [],
   "source": [
    "from sklearn.linear_model import Lasso"
   ]
  },
  {
   "cell_type": "code",
   "execution_count": 99,
   "metadata": {},
   "outputs": [
    {
     "data": {
      "text/plain": [
       "Lasso(alpha=100, copy_X=True, fit_intercept=True, max_iter=1000,\n",
       "      normalize=False, positive=False, precompute=False, random_state=0,\n",
       "      selection='cyclic', tol=0.0001, warm_start=False)"
      ]
     },
     "execution_count": 99,
     "metadata": {},
     "output_type": "execute_result"
    },
    {
     "name": "stdout",
     "output_type": "stream",
     "text": [
      "Train_PCA R-sq: 0.3363102009590776\n",
      "Test_PCA R-sq 0.3184414858653406\n"
     ]
    },
    {
     "data": {
      "text/plain": [
       "Lasso(alpha=100, copy_X=True, fit_intercept=True, max_iter=1000,\n",
       "      normalize=False, positive=False, precompute=False, random_state=0,\n",
       "      selection='cyclic', tol=0.0001, warm_start=False)"
      ]
     },
     "execution_count": 99,
     "metadata": {},
     "output_type": "execute_result"
    },
    {
     "name": "stdout",
     "output_type": "stream",
     "text": [
      "Train small score: 0.46899758861443797\n",
      "Test small score 0.4869850618430981\n"
     ]
    }
   ],
   "source": [
    "lasso_reg = Lasso(alpha=100, random_state=0)\n",
    "lasso_reg.fit(X_reduced, y_train)\n",
    "print('Train_PCA R-sq:',lasso_reg.score(X_reduced, y_train))\n",
    "print('Test_PCA R-sq',lasso_reg.score(X_test_reduced, y_test))\n",
    "\n",
    "temp=pd.DataFrame([[\"lasso_reg_pca\",lasso_reg.score(X_reduced, y_train),lasso_reg.score(X_test_reduced, y_test),None]], columns = ['Model', 'Train_score','Test_score','PCA_test'])\n",
    "score_table=score_table.append(temp,ignore_index=True)\n",
    "\n",
    "lasso_reg = Lasso(alpha=100, random_state=0)\n",
    "lasso_reg.fit(small_x_train, small_y_train)\n",
    "print('Train small score:',lasso_reg.score(small_x_train, small_y_train))\n",
    "print('Test small score',lasso_reg.score(small_x_test, small_y_test))\n",
    "\n",
    "temp=pd.DataFrame([[\"lasso_reg\",lasso_reg.score(small_x_train, small_y_train),lasso_reg.score(small_x_test, small_y_test),None]], columns = ['Model', 'Train_score','Test_score','PCA_test'])\n",
    "score_table=score_table.append(temp,ignore_index=True)"
   ]
  },
  {
   "cell_type": "code",
   "execution_count": 100,
   "metadata": {},
   "outputs": [
    {
     "data": {
      "text/html": [
       "<div>\n",
       "<style scoped>\n",
       "    .dataframe tbody tr th:only-of-type {\n",
       "        vertical-align: middle;\n",
       "    }\n",
       "\n",
       "    .dataframe tbody tr th {\n",
       "        vertical-align: top;\n",
       "    }\n",
       "\n",
       "    .dataframe thead th {\n",
       "        text-align: right;\n",
       "    }\n",
       "</style>\n",
       "<table border=\"1\" class=\"dataframe\">\n",
       "  <thead>\n",
       "    <tr style=\"text-align: right;\">\n",
       "      <th></th>\n",
       "      <th>Model</th>\n",
       "      <th>Train_score</th>\n",
       "      <th>Test_score</th>\n",
       "      <th>PCA_test</th>\n",
       "    </tr>\n",
       "  </thead>\n",
       "  <tbody>\n",
       "    <tr>\n",
       "      <th>0</th>\n",
       "      <td>linear_reg_pca</td>\n",
       "      <td>0.337577</td>\n",
       "      <td>0.319964</td>\n",
       "      <td>None</td>\n",
       "    </tr>\n",
       "    <tr>\n",
       "      <th>1</th>\n",
       "      <td>linear_reg_pca</td>\n",
       "      <td>0.337577</td>\n",
       "      <td>0.319964</td>\n",
       "      <td>None</td>\n",
       "    </tr>\n",
       "    <tr>\n",
       "      <th>2</th>\n",
       "      <td>linear_reg</td>\n",
       "      <td>0.472749</td>\n",
       "      <td>0.487780</td>\n",
       "      <td>None</td>\n",
       "    </tr>\n",
       "    <tr>\n",
       "      <th>3</th>\n",
       "      <td>ridge_reg_pca</td>\n",
       "      <td>0.337577</td>\n",
       "      <td>0.319964</td>\n",
       "      <td>None</td>\n",
       "    </tr>\n",
       "    <tr>\n",
       "      <th>4</th>\n",
       "      <td>ridge_reg</td>\n",
       "      <td>0.471433</td>\n",
       "      <td>0.488257</td>\n",
       "      <td>None</td>\n",
       "    </tr>\n",
       "    <tr>\n",
       "      <th>5</th>\n",
       "      <td>knn_reg_pca</td>\n",
       "      <td>-1.865627</td>\n",
       "      <td>-1.736097</td>\n",
       "      <td>None</td>\n",
       "    </tr>\n",
       "    <tr>\n",
       "      <th>6</th>\n",
       "      <td>knn_reg</td>\n",
       "      <td>0.760640</td>\n",
       "      <td>0.474405</td>\n",
       "      <td>None</td>\n",
       "    </tr>\n",
       "    <tr>\n",
       "      <th>7</th>\n",
       "      <td>lasso_reg_pca</td>\n",
       "      <td>0.336310</td>\n",
       "      <td>0.318441</td>\n",
       "      <td>None</td>\n",
       "    </tr>\n",
       "    <tr>\n",
       "      <th>8</th>\n",
       "      <td>lasso_reg</td>\n",
       "      <td>0.468998</td>\n",
       "      <td>0.486985</td>\n",
       "      <td>None</td>\n",
       "    </tr>\n",
       "  </tbody>\n",
       "</table>\n",
       "</div>"
      ],
      "text/plain": [
       "            Model  Train_score  Test_score PCA_test\n",
       "0  linear_reg_pca     0.337577    0.319964     None\n",
       "1  linear_reg_pca     0.337577    0.319964     None\n",
       "2      linear_reg     0.472749    0.487780     None\n",
       "3   ridge_reg_pca     0.337577    0.319964     None\n",
       "4       ridge_reg     0.471433    0.488257     None\n",
       "5     knn_reg_pca    -1.865627   -1.736097     None\n",
       "6         knn_reg     0.760640    0.474405     None\n",
       "7   lasso_reg_pca     0.336310    0.318441     None\n",
       "8       lasso_reg     0.468998    0.486985     None"
      ]
     },
     "execution_count": 100,
     "metadata": {},
     "output_type": "execute_result"
    }
   ],
   "source": [
    "score_table"
   ]
  },
  {
   "cell_type": "markdown",
   "metadata": {},
   "source": [
    "## PCA Polynomial Regression"
   ]
  },
  {
   "cell_type": "code",
   "execution_count": 104,
   "metadata": {},
   "outputs": [
    {
     "data": {
      "text/plain": [
       "LinearRegression(copy_X=True, fit_intercept=True, n_jobs=None, normalize=False)"
      ]
     },
     "execution_count": 104,
     "metadata": {},
     "output_type": "execute_result"
    },
    {
     "data": {
      "text/plain": [
       "LinearRegression(copy_X=True, fit_intercept=True, n_jobs=None, normalize=False)"
      ]
     },
     "execution_count": 104,
     "metadata": {},
     "output_type": "execute_result"
    }
   ],
   "source": [
    "from  sklearn.preprocessing  import PolynomialFeatures\n",
    "train_score_list = []\n",
    "test_score_list = []\n",
    "\n",
    "for n in range(1,3):\n",
    "\n",
    "    poly = PolynomialFeatures(n)#put data into higher power\n",
    "    X_train_poly = poly.fit_transform(small_x_train)\n",
    "    X_test_poly = poly.transform(small_x_test)\n",
    "    lreg.fit(X_train_poly, small_y_train)\n",
    "    train_score_list.append(lreg.score(X_train_poly, small_y_train))\n",
    "    test_score_list.append(lreg.score(X_test_poly, small_y_test))"
   ]
  },
  {
   "cell_type": "code",
   "execution_count": 105,
   "metadata": {},
   "outputs": [],
   "source": [
    "pca=PCA(n_components=0.95)\n",
    "X_train_poly_pca = pca.fit_transform(X_train_poly)\n",
    "X_test_poly_pca = pca.transform(X_test_poly)"
   ]
  },
  {
   "cell_type": "code",
   "execution_count": 112,
   "metadata": {},
   "outputs": [
    {
     "data": {
      "text/plain": [
       "LinearRegression(copy_X=True, fit_intercept=True, n_jobs=None, normalize=False)"
      ]
     },
     "execution_count": 112,
     "metadata": {},
     "output_type": "execute_result"
    },
    {
     "name": "stdout",
     "output_type": "stream",
     "text": [
      "Train_PCA R-sq: 0.1851994176047138\n",
      "Test_PCA R-sq 0.12280887964612175\n"
     ]
    },
    {
     "data": {
      "text/plain": [
       "LinearRegression(copy_X=True, fit_intercept=True, n_jobs=None, normalize=False)"
      ]
     },
     "execution_count": 112,
     "metadata": {},
     "output_type": "execute_result"
    },
    {
     "name": "stdout",
     "output_type": "stream",
     "text": [
      "Train small score: 0.6605715807989154\n",
      "Test small score 0.6043668566810096\n"
     ]
    }
   ],
   "source": [
    "lreg=LinearRegression()\n",
    "lreg.fit(X_train_poly_pca, small_y_train)\n",
    "print('Train_PCA R-sq:',lreg.score(X_train_poly_pca, small_y_train))\n",
    "print('Test_PCA R-sq',lreg.score(X_test_poly_pca, small_y_test))\n",
    "\n",
    "temp=pd.DataFrame([[\"poly_reg_pca\",lreg.score(X_train_poly_pca, small_y_train),lreg.score(X_test_poly_pca, small_y_test),None]], columns = ['Model', 'Train_score','Test_score','PCA_test'])\n",
    "score_table=score_table.append(temp,ignore_index=True)\n",
    "\n",
    "lreg.fit(X_train_poly, small_y_train)\n",
    "print('Train small score:',lreg.score(X_train_poly, small_y_train))\n",
    "print('Test small score',lreg.score(X_test_poly, small_y_test))\n",
    "\n",
    "temp=pd.DataFrame([[\"poly_reg\",lreg.score(X_train_poly, small_y_train),lreg.score(X_test_poly, small_y_test),None]], columns = ['Model', 'Train_score','Test_score','PCA_test'])\n",
    "score_table=score_table.append(temp,ignore_index=True)"
   ]
  },
  {
   "cell_type": "markdown",
   "metadata": {},
   "source": [
    "## PCA decision tree"
   ]
  },
  {
   "cell_type": "code",
   "execution_count": 115,
   "metadata": {},
   "outputs": [
    {
     "data": {
      "text/plain": [
       "DecisionTreeRegressor(criterion='mse', max_depth=2, max_features=None,\n",
       "                      max_leaf_nodes=None, min_impurity_decrease=0.0,\n",
       "                      min_impurity_split=None, min_samples_leaf=1,\n",
       "                      min_samples_split=2, min_weight_fraction_leaf=0.0,\n",
       "                      presort=False, random_state=None, splitter='best')"
      ]
     },
     "execution_count": 115,
     "metadata": {},
     "output_type": "execute_result"
    },
    {
     "name": "stdout",
     "output_type": "stream",
     "text": [
      "Train_PCA R-sq: 0.2994920506830555\n",
      "Test_PCA R-sq: 0.28247429721312967\n"
     ]
    },
    {
     "data": {
      "text/plain": [
       "DecisionTreeRegressor(criterion='mse', max_depth=2, max_features=None,\n",
       "                      max_leaf_nodes=None, min_impurity_decrease=0.0,\n",
       "                      min_impurity_split=None, min_samples_leaf=1,\n",
       "                      min_samples_split=2, min_weight_fraction_leaf=0.0,\n",
       "                      presort=False, random_state=None, splitter='best')"
      ]
     },
     "execution_count": 115,
     "metadata": {},
     "output_type": "execute_result"
    },
    {
     "name": "stdout",
     "output_type": "stream",
     "text": [
      "Train R-sq: 0.4290532538282983\n",
      "Test R-sq: 0.4012181632388758\n"
     ]
    }
   ],
   "source": [
    "tree = DecisionTreeRegressor(max_depth=2)\n",
    "tree.fit(X_reduced, y_train)\n",
    "print('Train_PCA R-sq:',tree.score(X_reduced, y_train))\n",
    "print('Test_PCA R-sq:',tree.score(X_test_reduced, y_test))\n",
    "\n",
    "temp=pd.DataFrame([[\"tree_reg_pca\",tree.score(X_reduced, y_train),tree.score(X_test_reduced, y_test),None]], columns = ['Model', 'Train_score','Test_score','PCA_test'])\n",
    "score_table=score_table.append(temp,ignore_index=True)\n",
    "\n",
    "tree.fit(small_x_train, small_y_train)\n",
    "print('Train R-sq:',tree.score(small_x_train, small_y_train))\n",
    "print('Test R-sq:',tree.score(small_x_test, small_y_test))\n",
    "\n",
    "temp=pd.DataFrame([[\"tree_reg\",tree.score(small_x_train, small_y_train),tree.score(small_x_test, small_y_test),None]], columns = ['Model', 'Train_score','Test_score','PCA_test'])\n",
    "score_table=score_table.append(temp,ignore_index=True)"
   ]
  },
  {
   "cell_type": "markdown",
   "metadata": {},
   "source": [
    "## PCA different SVR"
   ]
  },
  {
   "cell_type": "code",
   "execution_count": 60,
   "metadata": {},
   "outputs": [],
   "source": [
    "from sklearn.svm import LinearSVR\n",
    "from sklearn.svm import SVR"
   ]
  },
  {
   "cell_type": "code",
   "execution_count": 61,
   "metadata": {},
   "outputs": [],
   "source": [
    "C = 0.1\n",
    "L_svr = LinearSVR(C=C)\n",
    "ksvr_L = SVR(kernel='linear', C=C)\n",
    "ksvr_rbf = SVR(kernel='rbf', gamma=0.1, C=C)\n",
    "ksvr_poly = SVR(kernel='poly', degree=2, C=C)"
   ]
  },
  {
   "cell_type": "code",
   "execution_count": 67,
   "metadata": {},
   "outputs": [
    {
     "name": "stdout",
     "output_type": "stream",
     "text": [
      "Linear_SVR train_pca score:  -0.28789072349731804\n",
      "Linear_SVR test_pca score:  -0.22365166341876086\n",
      "Kernel_SVR_Linear train_pca score:  0.149033140055724\n",
      "Kernel_SVR_Linear test_pca score:  0.15455504227610872\n",
      "Kernel_SVR_rbf train_pca score:  -0.10232968374411167\n",
      "Kernel_SVR_rbf test_pca score:  -0.08223177975415075\n",
      "Kernel_SVR_poly train_pca score:  -0.053624643633725544\n",
      "Kernel_SVR_poly test_pca score:  -0.0015985232844144546\n"
     ]
    }
   ],
   "source": [
    "L_svr.fit(X_reduced,y_train)\n",
    "ksvr_L.fit(X_reduced,y_train)\n",
    "ksvr_rbf.fit(X_reduced,y_train)\n",
    "ksvr_poly.fit(X_reduced,y_train)\n",
    "\n",
    "print('Linear_SVR train_pca score: ',L_svr.score(X_reduced, y_train))\n",
    "print('Linear_SVR test_pca score: ',L_svr.score(X_test_reduced, y_test))\n",
    "\n",
    "temp=pd.DataFrame([[\"Linear_SVR_reg_pca\",L_svr.score(X_reduced, y_train),L_svr.score(X_test_reduced, y_test),None]], columns = ['Model', 'Train_score','Test_score','PCA_test'])\n",
    "score_table=score_table.append(temp,ignore_index=True)\n",
    "\n",
    "print('Kernel_SVR_Linear train_pca score: ',ksvr_L.score(X_reduced, y_train))\n",
    "print('Kernel_SVR_Linear test_pca score: ',ksvr_L.score(X_test_reduced, y_test))\n",
    "\n",
    "temp=pd.DataFrame([[\"Kernel_SVR_Linear\",ksvr_L.score(X_reduced, y_train),ksvr_L.score(X_test_reduced, y_test),None]], columns = ['Model', 'Train_score','Test_score','PCA_test'])\n",
    "score_table=score_table.append(temp,ignore_index=True)\n",
    "\n",
    "print('Kernel_SVR_rbf train_pca score: ',ksvr_rbf.score(X_reduced, y_train))\n",
    "print('Kernel_SVR_rbf test_pca score: ',ksvr_rbf.score(X_test_reduced, y_test))\n",
    "\n",
    "temp=pd.DataFrame([[\"Kernel_SVR_rbf\",ksvr_rbf.score(X_reduced, y_train),ksvr_rbf.score(X_test_reduced, y_test),None]], columns = ['Model', 'Train_score','Test_score','PCA_test'])\n",
    "score_table=score_table.append(temp,ignore_index=True)\n",
    "\n",
    "print('Kernel_SVR_poly train_pca score: ',ksvr_poly.score(X_reduced, y_train))\n",
    "print('Kernel_SVR_poly test_pca score: ',ksvr_poly.score(X_test_reduced, y_test))\n",
    "\n",
    "temp=pd.DataFrame([[\"Kernel_SVR_poly\",ksvr_poly.score(X_reduced, y_train),ksvr_poly.score(X_test_reduced, y_test),None]], columns = ['Model', 'Train_score','Test_score','PCA_test'])\n",
    "score_table=score_table.append(temp,ignore_index=True)"
   ]
  },
  {
   "cell_type": "code",
   "execution_count": 64,
   "metadata": {},
   "outputs": [
    {
     "name": "stderr",
     "output_type": "stream",
     "text": [
      "C:\\Users\\howar\\Anaconda3\\lib\\site-packages\\sklearn\\svm\\base.py:929: ConvergenceWarning: Liblinear failed to converge, increase the number of iterations.\n",
      "  \"the number of iterations.\", ConvergenceWarning)\n"
     ]
    },
    {
     "data": {
      "text/plain": [
       "LinearSVR(C=0.1, dual=True, epsilon=0.0, fit_intercept=True,\n",
       "          intercept_scaling=1.0, loss='epsilon_insensitive', max_iter=1000,\n",
       "          random_state=None, tol=0.0001, verbose=0)"
      ]
     },
     "execution_count": 64,
     "metadata": {},
     "output_type": "execute_result"
    }
   ],
   "source": [
    "L_svr.fit(small_x_train,small_y_train)"
   ]
  },
  {
   "cell_type": "code",
   "execution_count": 65,
   "metadata": {},
   "outputs": [
    {
     "name": "stdout",
     "output_type": "stream",
     "text": [
      "Linear_SVR train score:  0.33252618613284624\n",
      "Linear_SVR test score:  0.4394771243221597\n"
     ]
    }
   ],
   "source": [
    "print('Linear_SVR train score: ',L_svr.score(small_x_train, small_y_train))\n",
    "print('Linear_SVR test score: ',L_svr.score(small_x_test, small_y_test))"
   ]
  },
  {
   "cell_type": "code",
   "execution_count": 62,
   "metadata": {},
   "outputs": [
    {
     "name": "stdout",
     "output_type": "stream",
     "text": [
      "(3430, 5) (3430,)\n"
     ]
    }
   ],
   "source": [
    "import numpy as np\n",
    "np.random.seed(123)\n",
    "y  = data[\"price\"]\n",
    "x =  data.drop(\"price\",axis=1)\n",
    "x = data[['price', 'yearOfRegistration', 'powerPS', 'kilometer', 'monthOfRegistration']]\n",
    "\n",
    "_, sample_X, _, sample_y = train_test_split(x, y, shuffle = False, test_size = 0.01)\n",
    "print(sample_X.shape,sample_y.shape)\n",
    "\n",
    "svr_x_train, svr_x_test, svr_y_train, svr_y_test=train_test_split(sample_X, sample_y, test_size=0.25, random_state=0)"
   ]
  },
  {
   "cell_type": "code",
   "execution_count": 63,
   "metadata": {},
   "outputs": [],
   "source": [
    "from sklearn.preprocessing import StandardScaler\n",
    "ss = StandardScaler()\n",
    "svr_x_train = ss.fit_transform(svr_x_train)\n",
    "svr_x_test = ss.transform(svr_x_test)"
   ]
  },
  {
   "cell_type": "code",
   "execution_count": 64,
   "metadata": {},
   "outputs": [
    {
     "name": "stdout",
     "output_type": "stream",
     "text": [
      "Kernel_SVR_Linear train score:  -0.05151737781162269\n",
      "Kernel_SVR_Linear test score:  -0.061975216137118316\n"
     ]
    }
   ],
   "source": [
    "ksvr_L.fit(svr_x_train,svr_y_train)\n",
    "print('Kernel_SVR_Linear train score: ',ksvr_L.score(svr_x_train, svr_y_train))\n",
    "print('Kernel_SVR_Linear test score: ',ksvr_L.score(svr_x_test, svr_y_test))"
   ]
  },
  {
   "cell_type": "code",
   "execution_count": 65,
   "metadata": {},
   "outputs": [
    {
     "name": "stdout",
     "output_type": "stream",
     "text": [
      "Kernel_SVR_rbf train score:  -0.1236715704010316\n",
      "Kernel_SVR_rbf test score:  -0.13512308419220975\n"
     ]
    }
   ],
   "source": [
    "ksvr_rbf.fit(svr_x_train,svr_y_train)\n",
    "print('Kernel_SVR_rbf train score: ',ksvr_rbf.score(svr_x_train, svr_y_train))\n",
    "print('Kernel_SVR_rbf test score: ',ksvr_rbf.score(svr_x_test, svr_y_test))"
   ]
  },
  {
   "cell_type": "code",
   "execution_count": 66,
   "metadata": {
    "scrolled": true
   },
   "outputs": [
    {
     "name": "stdout",
     "output_type": "stream",
     "text": [
      "Kernel_SVR_poly train score:  -0.1131247805590474\n",
      "Kernel_SVR_poly test score:  -0.12074931348726525\n"
     ]
    }
   ],
   "source": [
    "ksvr_poly.fit(svr_x_train,svr_y_train)\n",
    "print('Kernel_SVR_poly train score: ',ksvr_poly.score(svr_x_train, svr_y_train))\n",
    "print('Kernel_SVR_poly test score: ',ksvr_poly.score(svr_x_test, svr_y_test))"
   ]
  },
  {
   "cell_type": "markdown",
   "metadata": {},
   "source": [
    "### <font color = 'blue'> 1. Linear SVR is still better than other SVR"
   ]
  },
  {
   "cell_type": "markdown",
   "metadata": {},
   "source": [
    "### <font color = 'blue'> 2. KNN is the best model with or without PCA"
   ]
  },
  {
   "cell_type": "markdown",
   "metadata": {},
   "source": [
    "### <font color = 'blue'> 3. PCA's outcome is not better than reducing rows "
   ]
  },
  {
   "cell_type": "markdown",
   "metadata": {},
   "source": [
    "## Deep Learning"
   ]
  },
  {
   "cell_type": "code",
   "execution_count": 70,
   "metadata": {},
   "outputs": [
    {
     "name": "stderr",
     "output_type": "stream",
     "text": [
      "Using TensorFlow backend.\n"
     ]
    }
   ],
   "source": [
    "from tensorflow.keras.models import Sequential\n",
    "from tensorflow.keras.layers import Dense, Activation\n",
    "from keras.optimizers import SGD\n",
    "from keras.utils import np_utils\n",
    "\n",
    "np.random.seed(123)"
   ]
  },
  {
   "cell_type": "code",
   "execution_count": 71,
   "metadata": {},
   "outputs": [],
   "source": [
    "# step 1: build the model, container\n",
    "model = Sequential()\n",
    "model.add(Dense(100, input_dim = small_x_train.shape[1], activation='sigmoid')) #hidden\n",
    "model.add(Dense(50, input_dim = 60, activation='relu')) #hidden\n",
    "model.add(Dense(5, input_dim = 10, activation='relu')) #hidden\n",
    "model.add(Dense(1)) #output"
   ]
  },
  {
   "cell_type": "code",
   "execution_count": 72,
   "metadata": {},
   "outputs": [],
   "source": [
    "# step 2: compile the model, computational graph\n",
    "model.compile(loss='mse' , optimizer='Adagrad' , metrics = ['MSE'])"
   ]
  },
  {
   "cell_type": "code",
   "execution_count": 73,
   "metadata": {},
   "outputs": [
    {
     "name": "stdout",
     "output_type": "stream",
     "text": [
      "WARNING:tensorflow:Falling back from v2 loop because of error: Failed to find data adapter that can handle input: <class 'pandas.core.frame.DataFrame'>, <class 'NoneType'>\n",
      "Train on 2572 samples\n",
      "Epoch 1/50\n",
      "2572/2572 [==============================] - 1s 287us/sample - loss: 86715605.8740 - MSE: 86715560.0000\n",
      "Epoch 2/50\n",
      "2572/2572 [==============================] - 1s 241us/sample - loss: 86676492.8162 - MSE: 86676528.0000\n",
      "Epoch 3/50\n",
      "2572/2572 [==============================] - 1s 225us/sample - loss: 86638892.2959 - MSE: 86638928.0000\n",
      "Epoch 4/50\n",
      "2572/2572 [==============================] - 1s 228us/sample - loss: 86599903.5091 - MSE: 86599872.0000\n",
      "Epoch 5/50\n",
      "2572/2572 [==============================] - 1s 227us/sample - loss: 86557396.1401 - MSE: 86557408.0000\n",
      "Epoch 6/50\n",
      "2572/2572 [==============================] - 1s 231us/sample - loss: 86511516.9020 - MSE: 86511528.0000\n",
      "Epoch 7/50\n",
      "2572/2572 [==============================] - 1s 242us/sample - loss: 86464503.1286 - MSE: 86464504.0000\n",
      "Epoch 8/50\n",
      "2572/2572 [==============================] - 1s 235us/sample - loss: 86416083.8425 - MSE: 86416088.0000\n",
      "Epoch 9/50\n",
      "2572/2572 [==============================] - 1s 222us/sample - loss: 86365991.6395 - MSE: 86366024.0000\n",
      "Epoch 10/50\n",
      "2572/2572 [==============================] - 1s 216us/sample - loss: 86314252.6385 - MSE: 86314232.0000\n",
      "Epoch 11/50\n",
      "2572/2572 [==============================] - 1s 221us/sample - loss: 86261088.3735 - MSE: 86261112.0000\n",
      "Epoch 12/50\n",
      "2572/2572 [==============================] - 1s 230us/sample - loss: 86205700.6615 - MSE: 86205712.0000\n",
      "Epoch 13/50\n",
      "2572/2572 [==============================] - 1s 226us/sample - loss: 86148234.9644 - MSE: 86148216.0000\n",
      "Epoch 14/50\n",
      "2572/2572 [==============================] - 1s 219us/sample - loss: 86089197.5192 - MSE: 86089184.0000\n",
      "Epoch 15/50\n",
      "2572/2572 [==============================] - 1s 226us/sample - loss: 86028865.2751 - MSE: 86028864.0000\n",
      "Epoch 16/50\n",
      "2572/2572 [==============================] - 1s 222us/sample - loss: 85967296.3060 - MSE: 85967304.0000\n",
      "Epoch 17/50\n",
      "2572/2572 [==============================] - 1s 230us/sample - loss: 85904431.6185 - MSE: 85904424.0000\n",
      "Epoch 18/50\n",
      "2572/2572 [==============================] - 1s 223us/sample - loss: 85840296.6517 - MSE: 85840352.0000\n",
      "Epoch 19/50\n",
      "2572/2572 [==============================] - 1s 235us/sample - loss: 85775030.5463 - MSE: 85775032.0000\n",
      "Epoch 20/50\n",
      "2572/2572 [==============================] - 1s 232us/sample - loss: 85706965.7945 - MSE: 85706976.0000\n",
      "Epoch 21/50\n",
      "2572/2572 [==============================] - 1s 231us/sample - loss: 85635655.7972 - MSE: 85635640.0000\n",
      "Epoch 22/50\n",
      "2572/2572 [==============================] - 1s 232us/sample - loss: 85563464.3631 - MSE: 85563488.0000\n",
      "Epoch 23/50\n",
      "2572/2572 [==============================] - 1s 241us/sample - loss: 85489632.1534 - MSE: 85489648.0000\n",
      "Epoch 24/50\n",
      "2572/2572 [==============================] - 1s 227us/sample - loss: 85413942.1380 - MSE: 85413952.0000\n",
      "Epoch 25/50\n",
      "2572/2572 [==============================] - 1s 231us/sample - loss: 85337185.1062 - MSE: 85337176.0000\n",
      "Epoch 26/50\n",
      "2572/2572 [==============================] - 1s 221us/sample - loss: 85259333.0623 - MSE: 85259344.0000\n",
      "Epoch 27/50\n",
      "2572/2572 [==============================] - 1s 230us/sample - loss: 85180413.9438 - MSE: 85180432.0000\n",
      "Epoch 28/50\n",
      "2572/2572 [==============================] - 1s 220us/sample - loss: 85100490.0155 - MSE: 85100448.0000\n",
      "Epoch 29/50\n",
      "2572/2572 [==============================] - 1s 218us/sample - loss: 85018806.8439 - MSE: 85018840.0000\n",
      "Epoch 30/50\n",
      "2572/2572 [==============================] - 1s 230us/sample - loss: 84933353.7554 - MSE: 84933360.0000\n",
      "Epoch 31/50\n",
      "2572/2572 [==============================] - 1s 217us/sample - loss: 84846730.2401 - MSE: 84846744.0000\n",
      "Epoch 32/50\n",
      "2572/2572 [==============================] - 1s 223us/sample - loss: 84759276.7999 - MSE: 84759296.0000\n",
      "Epoch 33/50\n",
      "2572/2572 [==============================] - 1s 226us/sample - loss: 84670691.6907 - MSE: 84670656.0000\n",
      "Epoch 34/50\n",
      "2572/2572 [==============================] - 1s 242us/sample - loss: 84581223.9887 - MSE: 84581168.0000\n",
      "Epoch 35/50\n",
      "2572/2572 [==============================] - 1s 242us/sample - loss: 84490940.3625 - MSE: 84490960.0000\n",
      "Epoch 36/50\n",
      "2572/2572 [==============================] - 1s 232us/sample - loss: 84399704.5851 - MSE: 84399712.0000\n",
      "Epoch 37/50\n",
      "2572/2572 [==============================] - 1s 234us/sample - loss: 84307642.9778 - MSE: 84307608.0000\n",
      "Epoch 38/50\n",
      "2572/2572 [==============================] - 1s 240us/sample - loss: 84214936.3919 - MSE: 84214936.0000\n",
      "Epoch 39/50\n",
      "2572/2572 [==============================] - 1s 236us/sample - loss: 84121453.5961 - MSE: 84121456.0000\n",
      "Epoch 40/50\n",
      "2572/2572 [==============================] - 1s 242us/sample - loss: 84027249.1082 - MSE: 84027240.0000\n",
      "Epoch 41/50\n",
      "2572/2572 [==============================] - 1s 234us/sample - loss: 83932204.5903 - MSE: 83932184.0000\n",
      "Epoch 42/50\n",
      "2572/2572 [==============================] - 1s 227us/sample - loss: 83836468.4946 - MSE: 83836440.0000\n",
      "Epoch 43/50\n",
      "2572/2572 [==============================] - 1s 237us/sample - loss: 83740109.6260 - MSE: 83740112.0000\n",
      "Epoch 44/50\n",
      "2572/2572 [==============================] - 1s 241us/sample - loss: 83642318.2122 - MSE: 83642280.0000\n",
      "Epoch 45/50\n",
      "2572/2572 [==============================] - 1s 237us/sample - loss: 83544471.8714 - MSE: 83544496.0000\n",
      "Epoch 46/50\n",
      "2572/2572 [==============================] - 1s 242us/sample - loss: 83446215.6033 - MSE: 83446256.0000\n",
      "Epoch 47/50\n",
      "2572/2572 [==============================] - 1s 226us/sample - loss: 83347339.1800 - MSE: 83347360.0000\n",
      "Epoch 48/50\n",
      "2572/2572 [==============================] - 1s 256us/sample - loss: 83247773.8840 - MSE: 83247784.0000 0s - loss: 78597487.4267 - MSE: 78\n",
      "Epoch 49/50\n",
      "2572/2572 [==============================] - 1s 238us/sample - loss: 83147481.0598 - MSE: 83147536.0000\n",
      "Epoch 50/50\n",
      "2572/2572 [==============================] - 1s 244us/sample - loss: 83046471.4442 - MSE: 83046496.0000\n"
     ]
    },
    {
     "data": {
      "text/plain": [
       "<tensorflow.python.keras.callbacks.History at 0x115c3fbd2e8>"
      ]
     },
     "execution_count": 73,
     "metadata": {},
     "output_type": "execute_result"
    }
   ],
   "source": [
    "# step 3: train the model\n",
    "model.fit(small_x_train, small_y_train, batch_size= 5, epochs=50)"
   ]
  },
  {
   "cell_type": "code",
   "execution_count": 74,
   "metadata": {},
   "outputs": [
    {
     "name": "stdout",
     "output_type": "stream",
     "text": [
      "WARNING:tensorflow:Falling back from v2 loop because of error: Failed to find data adapter that can handle input: <class 'pandas.core.frame.DataFrame'>, <class 'NoneType'>\n",
      "2572/2572 [==============================] - 0s 28us/sample - loss: 82995636.2053 - MSE: 82995640.0000\n",
      "WARNING:tensorflow:Falling back from v2 loop because of error: Failed to find data adapter that can handle input: <class 'pandas.core.frame.DataFrame'>, <class 'NoneType'>\n",
      "858/858 [==============================] - 0s 24us/sample - loss: 99326501.4452 - MSE: 99326512.0000\n",
      "Test Loss 99326501.44522144\n",
      "Test MSE 99326510.0\n"
     ]
    }
   ],
   "source": [
    "# step 4: evalution\n",
    "loss_and_metrics = model.evaluate(small_x_train, small_y_train)\n",
    "train_r_sq=1-(loss_and_metrics[1]*len(small_y_train))/(sum((small_y_train-small_y_train.mean())*(small_y_train-small_y_train.mean())))\n",
    "\n",
    "loss_and_metrics = model.evaluate(small_x_test, small_y_test)\n",
    "test_r_sq=1-(loss_and_metrics[1]*len(small_y_test))/(sum((small_y_test-small_y_test.mean())*(small_y_test-small_y_test.mean())))\n",
    "print(\"Test Loss\", loss_and_metrics[0])\n",
    "print(\"Test MSE\", loss_and_metrics[1])"
   ]
  },
  {
   "cell_type": "markdown",
   "metadata": {},
   "source": [
    "### <font color = 'blue'>Test Loss = 99326501.44522144, Test MSE = 99326510.0"
   ]
  },
  {
   "cell_type": "markdown",
   "metadata": {},
   "source": [
    "# Conclusion\n",
    "## <font color = 'green'>1. The comparison shows that PCA is not better than reducing rows, \n",
    "## <font color = 'green'>2. If we do bagging again on RF regressor, we will get worse outcome than just using RF regressor\n",
    "## <font color = 'green'>3. Bagging, Pasing normally can improve outcome.\n",
    "## <font color = 'green'>4. Adaboosting didn't improve the result very much"
   ]
  },
  {
   "cell_type": "code",
   "execution_count": null,
   "metadata": {},
   "outputs": [],
   "source": []
  },
  {
   "cell_type": "code",
   "execution_count": null,
   "metadata": {},
   "outputs": [],
   "source": []
  }
 ],
 "metadata": {
  "kernelspec": {
   "display_name": "Python 3",
   "language": "python",
   "name": "python3"
  },
  "language_info": {
   "codemirror_mode": {
    "name": "ipython",
    "version": 3
   },
   "file_extension": ".py",
   "mimetype": "text/x-python",
   "name": "python",
   "nbconvert_exporter": "python",
   "pygments_lexer": "ipython3",
   "version": "3.7.3"
  }
 },
 "nbformat": 4,
 "nbformat_minor": 2
}
